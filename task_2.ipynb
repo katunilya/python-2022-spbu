{
 "cells": [
  {
   "cell_type": "markdown",
   "metadata": {},
   "source": [
    "# Задание 2.\n",
    "\n",
    "**NB. Все упражнения ниже нужно делать без использования циклов Python в явном (`while`, `for`) и неявном виде (list comprehension, `map`, `reduce` и пр)**\n",
    "\n",
    "Задания по манипуляциям с массивами чаще всего решаются в одно/два выражения. "
   ]
  },
  {
   "cell_type": "code",
   "execution_count": 1,
   "metadata": {},
   "outputs": [
    {
     "data": {
      "text/plain": [
       "array([[68, 92, 94, ..., 46, 31, 19],\n",
       "       [17, 84, 90, ..., 98, 96, 99],\n",
       "       [ 9, 58, 19, ..., 49, 82,  7],\n",
       "       ...,\n",
       "       [39, 61, 98, ..., 12, 42, 85],\n",
       "       [43, 29, 93, ..., 46, 24, 20],\n",
       "       [77, 62, 61, ..., 17, 28, 19]])"
      ]
     },
     "execution_count": 1,
     "metadata": {},
     "output_type": "execute_result"
    }
   ],
   "source": [
    "%matplotlib inline\n",
    "\n",
    "import numpy as np\n",
    "import matplotlib.pyplot as plt\n",
    "import seaborn as sns\n",
    "sns.set_theme()\n",
    "\n",
    "A = np.random.randint(0, 100, size=(200, 50))\n",
    "A"
   ]
  },
  {
   "cell_type": "code",
   "execution_count": 2,
   "metadata": {},
   "outputs": [
    {
     "data": {
      "text/plain": [
       "array([[83, 90, 43],\n",
       "       [ 1, 69, 45],\n",
       "       [62, 87, 51]])"
      ]
     },
     "execution_count": 2,
     "metadata": {},
     "output_type": "execute_result"
    }
   ],
   "source": [
    "X = np.random.randint(0, 100, size=(3, 3))\n",
    "X\n"
   ]
  },
  {
   "cell_type": "markdown",
   "metadata": {},
   "source": [
    "# Задание 2.1 (2 балла)\n",
    "\n",
    "Сгенерируйте новый массив, в котором столбцы массива `A` переставлены в случайном порядке"
   ]
  },
  {
   "cell_type": "code",
   "execution_count": 3,
   "metadata": {},
   "outputs": [
    {
     "data": {
      "text/plain": [
       "array([[94, 60, 83, ..., 28, 27, 82],\n",
       "       [90, 64, 34, ..., 77,  7,  1],\n",
       "       [19, 36, 41, ..., 57, 80, 14],\n",
       "       ...,\n",
       "       [98, 51, 20, ..., 21, 40, 51],\n",
       "       [93, 32, 31, ..., 51, 70,  6],\n",
       "       [61, 50, 39, ..., 51, 27, 82]])"
      ]
     },
     "execution_count": 3,
     "metadata": {},
     "output_type": "execute_result"
    }
   ],
   "source": [
    "cp = A.copy().transpose()  # rows -> columns\n",
    "np.random.shuffle(cp)  # shuffle columns\n",
    "cp.transpose()  # rows -> columns, which brings back origin orientation\n"
   ]
  },
  {
   "cell_type": "markdown",
   "metadata": {},
   "source": [
    "# Задание 2.2 (5 баллов)\n",
    "\n",
    "Сгенерируйте новый массив, который содержит только те строки массива `A`, в которых: \n",
    "- сумма элементов по четным столбцам (индексы $0, 2, \\ldots$) больше среднего значения (по всему массиву) суммы элементов по нечетным столбцам (индексы $1, 3, \\ldots$) "
   ]
  },
  {
   "cell_type": "code",
   "execution_count": 4,
   "metadata": {},
   "outputs": [
    {
     "data": {
      "text/plain": [
       "array([[17, 84, 90, ..., 98, 96, 99],\n",
       "       [ 9, 58, 19, ..., 49, 82,  7],\n",
       "       [92, 32, 38, ..., 18,  6, 51],\n",
       "       ...,\n",
       "       [48, 86, 70, ..., 14,  0,  2],\n",
       "       [55, 92, 95, ..., 48, 25,  2],\n",
       "       [39, 61, 98, ..., 12, 42, 85]])"
      ]
     },
     "execution_count": 4,
     "metadata": {},
     "output_type": "execute_result"
    }
   ],
   "source": [
    "A[A[::, ::2].sum(axis=1) > A[::, 1::2].sum(axis=1).mean()]\n"
   ]
  },
  {
   "cell_type": "markdown",
   "metadata": {},
   "source": [
    "# Задача 2.3 (3 балла)\n",
    "\n",
    "Найдите индекс строки массива `A`, в которой разница между максимальным и минимальным элементом максимальна"
   ]
  },
  {
   "cell_type": "code",
   "execution_count": 5,
   "metadata": {},
   "outputs": [
    {
     "data": {
      "text/plain": [
       "12"
      ]
     },
     "execution_count": 5,
     "metadata": {},
     "output_type": "execute_result"
    }
   ],
   "source": [
    "np.argmax(A.max(axis=1) - A.min(axis=1))\n"
   ]
  },
  {
   "cell_type": "markdown",
   "metadata": {},
   "source": [
    "# Задание 2.4 (7 баллов)\n",
    "\n",
    "Сгенерируйте массив той же размерности, что и `A`, но в котором каждый элемент заменен на его порядковый номер (начиная с 1) в отсортированном по возрастанию массиве из элементов `A`\n",
    "\n",
    "Если `A` выглядит так:\n",
    "$$\n",
    "\\begin{pmatrix}\n",
    "12 & 14\\\\\n",
    "1 & 2\n",
    "\\end{pmatrix}\n",
    "$$\n",
    "то результат должен быть\n",
    "$$\n",
    "\\begin{pmatrix}\n",
    "3 & 4\\\\\n",
    "1 & 2\n",
    "\\end{pmatrix}\n",
    "$$\n",
    "\n",
    "*Tip: рассмотрите возможность неоднократного применения [argsort()](https://numpy.org/doc/stable/reference/generated/numpy.ndarray.argsort.html)*"
   ]
  },
  {
   "cell_type": "code",
   "execution_count": 6,
   "metadata": {},
   "outputs": [
    {
     "data": {
      "text/plain": [
       "array([[6819, 9234, 9493, ..., 4706, 3148, 1973],\n",
       "       [1719, 8399, 9075, ..., 9822, 9659, 9986],\n",
       "       [ 970, 5880, 1927, ..., 4926, 8223,  752],\n",
       "       ...,\n",
       "       [3978, 6144, 9818, ..., 1202, 4312, 8513],\n",
       "       [4338, 3019, 9347, ..., 4714, 2469, 2096],\n",
       "       [7761, 6219, 6157, ..., 1727, 2875, 1922]])"
      ]
     },
     "execution_count": 6,
     "metadata": {},
     "output_type": "execute_result"
    }
   ],
   "source": [
    "A.reshape(-1).argsort().argsort().reshape(A.shape)\n"
   ]
  },
  {
   "cell_type": "markdown",
   "metadata": {},
   "source": [
    "# Задание 2.5 (2 балла)\n",
    "\n",
    "Примените $\\min-\\max$ - нормализацию к строкам массива `A`. То есть нужно получить новый массивы, в каждой строке которого максимальный элементы равен $1$, минимальный - $0$. "
   ]
  },
  {
   "cell_type": "code",
   "execution_count": 7,
   "metadata": {},
   "outputs": [
    {
     "data": {
      "text/plain": [
       "array([[0.72043011, 0.97849462, 1.        , ..., 0.48387097, 0.32258065,\n",
       "        0.19354839],\n",
       "       [0.16326531, 0.84693878, 0.90816327, ..., 0.98979592, 0.96938776,\n",
       "        1.        ],\n",
       "       [0.03225806, 0.55913978, 0.13978495, ..., 0.46236559, 0.8172043 ,\n",
       "        0.01075269],\n",
       "       ...,\n",
       "       [0.39795918, 0.62244898, 1.        , ..., 0.12244898, 0.42857143,\n",
       "        0.86734694],\n",
       "       [0.44329897, 0.29896907, 0.95876289, ..., 0.4742268 , 0.24742268,\n",
       "        0.20618557],\n",
       "       [0.7755102 , 0.62244898, 0.6122449 , ..., 0.16326531, 0.2755102 ,\n",
       "        0.18367347]])"
      ]
     },
     "execution_count": 7,
     "metadata": {},
     "output_type": "execute_result"
    }
   ],
   "source": [
    "(A - A.min(axis=1).reshape(-1, 1)) / (A.max(axis=1) - A.min(axis=1)).reshape(-1, 1)\n"
   ]
  },
  {
   "cell_type": "markdown",
   "metadata": {},
   "source": [
    "# Задание 2.6 (2 балла)\n",
    "\n",
    "Сгенерируйте новый трехмерный массив, размерности $10 \\times 200 \\times 50$. Подмассивы по нулевой оси должны состоять из элементов `A`, умноженных на $1 - 10$ соответственно"
   ]
  },
  {
   "cell_type": "code",
   "execution_count": 8,
   "metadata": {},
   "outputs": [
    {
     "data": {
      "text/plain": [
       "array([[[ 68,  92,  94, ...,  46,  31,  19],\n",
       "        [ 17,  84,  90, ...,  98,  96,  99],\n",
       "        [  9,  58,  19, ...,  49,  82,   7],\n",
       "        ...,\n",
       "        [ 39,  61,  98, ...,  12,  42,  85],\n",
       "        [ 43,  29,  93, ...,  46,  24,  20],\n",
       "        [ 77,  62,  61, ...,  17,  28,  19]],\n",
       "\n",
       "       [[136, 184, 188, ...,  92,  62,  38],\n",
       "        [ 34, 168, 180, ..., 196, 192, 198],\n",
       "        [ 18, 116,  38, ...,  98, 164,  14],\n",
       "        ...,\n",
       "        [ 78, 122, 196, ...,  24,  84, 170],\n",
       "        [ 86,  58, 186, ...,  92,  48,  40],\n",
       "        [154, 124, 122, ...,  34,  56,  38]],\n",
       "\n",
       "       [[204, 276, 282, ..., 138,  93,  57],\n",
       "        [ 51, 252, 270, ..., 294, 288, 297],\n",
       "        [ 27, 174,  57, ..., 147, 246,  21],\n",
       "        ...,\n",
       "        [117, 183, 294, ...,  36, 126, 255],\n",
       "        [129,  87, 279, ..., 138,  72,  60],\n",
       "        [231, 186, 183, ...,  51,  84,  57]],\n",
       "\n",
       "       ...,\n",
       "\n",
       "       [[544, 736, 752, ..., 368, 248, 152],\n",
       "        [136, 672, 720, ..., 784, 768, 792],\n",
       "        [ 72, 464, 152, ..., 392, 656,  56],\n",
       "        ...,\n",
       "        [312, 488, 784, ...,  96, 336, 680],\n",
       "        [344, 232, 744, ..., 368, 192, 160],\n",
       "        [616, 496, 488, ..., 136, 224, 152]],\n",
       "\n",
       "       [[612, 828, 846, ..., 414, 279, 171],\n",
       "        [153, 756, 810, ..., 882, 864, 891],\n",
       "        [ 81, 522, 171, ..., 441, 738,  63],\n",
       "        ...,\n",
       "        [351, 549, 882, ..., 108, 378, 765],\n",
       "        [387, 261, 837, ..., 414, 216, 180],\n",
       "        [693, 558, 549, ..., 153, 252, 171]],\n",
       "\n",
       "       [[680, 920, 940, ..., 460, 310, 190],\n",
       "        [170, 840, 900, ..., 980, 960, 990],\n",
       "        [ 90, 580, 190, ..., 490, 820,  70],\n",
       "        ...,\n",
       "        [390, 610, 980, ..., 120, 420, 850],\n",
       "        [430, 290, 930, ..., 460, 240, 200],\n",
       "        [770, 620, 610, ..., 170, 280, 190]]])"
      ]
     },
     "execution_count": 8,
     "metadata": {},
     "output_type": "execute_result"
    }
   ],
   "source": [
    "np.array(range(1, 11)).reshape(10, 1, 1) * A.reshape(1, *A.shape)\n"
   ]
  },
  {
   "cell_type": "markdown",
   "metadata": {},
   "source": [
    "# Задание 2.7 (2 балла)\n",
    "\n",
    "Создайте новый массив, такой же размерности, как и `A`, в котором сначала сгруппированы четные столбцы `A`, потом  нечетные. Используйте [np.concat()](https://numpy.org/doc/stable/reference/generated/numpy.concatenate.html) "
   ]
  },
  {
   "cell_type": "code",
   "execution_count": 9,
   "metadata": {},
   "outputs": [
    {
     "data": {
      "text/plain": [
       "array([[68, 94, 18, ..., 75, 46, 19],\n",
       "       [17, 90, 82, ...,  2, 98, 99],\n",
       "       [ 9, 19, 71, ..., 23, 49,  7],\n",
       "       ...,\n",
       "       [39, 98, 63, ..., 61, 12, 85],\n",
       "       [43, 93, 53, ..., 69, 46, 20],\n",
       "       [77, 61, 26, ..., 47, 17, 19]])"
      ]
     },
     "execution_count": 9,
     "metadata": {},
     "output_type": "execute_result"
    }
   ],
   "source": [
    "np.concatenate([A[:, ::2], A[:, 1::2]], axis=1)\n"
   ]
  },
  {
   "cell_type": "markdown",
   "metadata": {},
   "source": [
    "# Задание 2.8 (2 балла)\n",
    "\n",
    "Посчитайте количество строк массива `A`, в который все элементы больше 5. Используйте [np.all()](https://numpy.org/doc/stable/reference/generated/numpy.all.html) "
   ]
  },
  {
   "cell_type": "code",
   "execution_count": 10,
   "metadata": {},
   "outputs": [
    {
     "data": {
      "text/plain": [
       "16"
      ]
     },
     "execution_count": 10,
     "metadata": {},
     "output_type": "execute_result"
    }
   ],
   "source": [
    "np.all(A > 5, axis=1).sum()\n"
   ]
  },
  {
   "cell_type": "markdown",
   "metadata": {},
   "source": [
    "# Задание 2.9 (2 балла)\n",
    "\n",
    "Поделите массив `A` горизонтально на 10 частей и создайте новый массив размерности $20 \\times 50$, который является средним этих частей. Используйте [np.split()](https://numpy.org/doc/stable/reference/generated/numpy.split.html)"
   ]
  },
  {
   "cell_type": "code",
   "execution_count": 11,
   "metadata": {},
   "outputs": [
    {
     "data": {
      "text/plain": [
       "array([[31.9, 51.2, 52. , 56.8, 34.9, 51. , 37.9, 35.6, 60.4, 50.7, 51.4,\n",
       "        74.6, 48.2, 54. , 66.6, 38.2, 44.9, 47.6, 46.6, 54.2, 44.8, 59.8,\n",
       "        54.8, 46.7, 39.5, 59.8, 54.3, 39.5, 37.6, 60.3, 59.6, 63.4, 51.9,\n",
       "        41. , 44.5, 42.1, 48.6, 42.3, 41.9, 44.3, 55. , 65.6, 66.9, 42.7,\n",
       "        49.3, 67. , 52.5, 46.9, 39.3, 47.9],\n",
       "       [56.9, 67.9, 44.6, 39.4, 42.5, 61.3, 29.2, 56.7, 38.9, 51.2, 59.7,\n",
       "        58.1, 39.9, 61.4, 43.5, 51.5, 45.4, 47.3, 49.5, 39.5, 43.4, 58. ,\n",
       "        52.6, 32.9, 53.1, 60.2, 44.3, 33.3, 69. , 54.7, 58.8, 54.8, 46.6,\n",
       "        50.1, 55.7, 57.6, 36.8, 47.1, 47.6, 47.1, 55.8, 41.6, 46.6, 42.4,\n",
       "        36.1, 37.9, 47.3, 55.2, 58.6, 52. ],\n",
       "       [37.9, 57.5, 43.7, 47.8, 43.5, 60.3, 30.7, 56.1, 52.7, 51.3, 48.6,\n",
       "        45.6, 61.9, 25.1, 47.9, 47.5, 49.5, 57.6, 46.4, 33.1, 44.8, 43.5,\n",
       "        42. , 49.3, 63.6, 40.2, 49.2, 55.9, 48. , 37.9, 40.8, 67.6, 41.5,\n",
       "        38.4, 54.1, 62.1, 54.8, 67.5, 38.7, 53.5, 61.6, 52.1, 65.6, 59.1,\n",
       "        77. , 37.4, 53.9, 38.7, 39.1, 28.1],\n",
       "       [53.2, 37. , 41.2, 52.9, 35.8, 64.9, 42.6, 36.8, 50.5, 34.1, 49.2,\n",
       "        40.3, 43.6, 62.4, 62. , 47.5, 21.4, 76.7, 55.7, 54.7, 39.3, 45.2,\n",
       "        42.6, 44.9, 67. , 45.8, 31.2, 58.5, 59.1, 41.9, 48.3, 49. , 34.2,\n",
       "        46.7, 38.1, 44.6, 53.6, 40.4, 45.4, 46.6, 39.6, 38.6, 37.1, 46.6,\n",
       "        36.8, 56.8, 58.1, 41.8, 62.7, 38.8],\n",
       "       [41.5, 47. , 46.4, 58.8, 53.9, 45.5, 44.6, 38.8, 60.9, 48. , 48.3,\n",
       "        55.6, 68.5, 52. , 48.1, 44.3, 68.3, 49.4, 38.8, 52.9, 38.4, 47.7,\n",
       "        42.5, 54.3, 50.6, 57.5, 43.7, 48.9, 53.7, 51.2, 64.9, 47.7, 35.6,\n",
       "        55.8, 66.2, 52.2, 46.1, 56.5, 43.1, 52.9, 68. , 64.9, 36.8, 33.2,\n",
       "        58.8, 30.6, 48.2, 46.9, 53.1, 64.4],\n",
       "       [42.4, 45.7, 41.9, 45.8, 54.8, 40.4, 61.9, 57.6, 48.3, 54.1, 60.8,\n",
       "        60.4, 53.2, 33.6, 26.7, 38.7, 46.8, 23.1, 39.5, 55. , 48.5, 56.8,\n",
       "        59.6, 50.4, 45.1, 43.5, 44.5, 56.5, 45.6, 56.7, 33.1, 50.7, 63.5,\n",
       "        47. , 41.3, 45.3, 50.3, 53.1, 53.6, 42.1, 61.4, 40.7, 40.1, 59.4,\n",
       "        34.4, 44.2, 28.3, 50.7, 57.3, 42.3],\n",
       "       [42. , 51.6, 65.5, 36.7, 53.8, 41.9, 46.6, 45.2, 32.9, 66.6, 48. ,\n",
       "        35.3, 59.2, 64.3, 49.5, 36.2, 47.5, 54. , 27.8, 41.2, 38.2, 41.6,\n",
       "        52.8, 57.7, 52.2, 39.9, 38.8, 46.3, 46.3, 52.5, 48.9, 63.3, 50.2,\n",
       "        45.8, 46.2, 54.2, 55.5, 57.8, 42.7, 59.3, 59.3, 33.9, 66. , 41.3,\n",
       "        46.9, 67.1, 52. , 44.9, 48.9, 46.2],\n",
       "       [33.3, 56.7, 62. , 49.7, 48.6, 54.4, 50.4, 54. , 50.5, 53.7, 43.2,\n",
       "        51.3, 60.2, 54.7, 46.4, 37.1, 55.9, 46.8, 59.6, 52.2, 29. , 34.3,\n",
       "        69.5, 44.9, 42.5, 53.4, 55.3, 57.4, 66.5, 67.9, 33.1, 48. , 33.8,\n",
       "        53.4, 43.7, 50.5, 54.5, 53.2, 62. , 50.8, 51.9, 68.9, 63.2, 49.4,\n",
       "        47.1, 48.4, 50.7, 53.2, 64.2, 52.1],\n",
       "       [52.6, 54.8, 52.1, 42. , 59.5, 56.5, 45.4, 50.7, 49.3, 69.8, 77. ,\n",
       "        44.4, 40.6, 21.8, 45.2, 48.3, 53.3, 59.3, 41.7, 45.9, 35.5, 52.3,\n",
       "        51.3, 39.7, 54.1, 47.3, 59.2, 45.1, 56.9, 47.1, 43.1, 44.9, 42.1,\n",
       "        55.1, 54.2, 37.6, 47.5, 60.9, 34.4, 56.2, 55.7, 52.1, 44.2, 55.5,\n",
       "        54.2, 57.3, 44.1, 38.5, 50.6, 67.7],\n",
       "       [49.4, 46.1, 55.7, 58.5, 41.1, 39.6, 46.6, 55.1, 44.8, 38. , 46.8,\n",
       "        40.2, 45.4, 46.3, 35.4, 46. , 43.9, 47.7, 54.5, 45.1, 38.4, 52.4,\n",
       "        42.1, 42.6, 47.8, 53.2, 44.3, 70.5, 52.1, 55.9, 34.1, 39.8, 49.1,\n",
       "        47.1, 43.8, 42.7, 56.3, 54.3, 61. , 33.2, 41.1, 62.8, 50. , 47.3,\n",
       "        50.2, 34.1, 38.7, 47.5, 50.5, 50.6],\n",
       "       [50. , 36.4, 51.6, 36. , 30.9, 55.3, 50.5, 52.2, 65.3, 61. , 54.5,\n",
       "        35.7, 48.5, 46.5, 51.9, 52.5, 42.3, 53.5, 58.5, 63. , 66.7, 63.4,\n",
       "        51.9, 46.3, 47.3, 48.2, 57.1, 33.9, 58.5, 58.7, 46.9, 37.4, 41.9,\n",
       "        58.7, 28.5, 35.3, 49.4, 47.6, 46.6, 51.8, 50.5, 43.3, 45.2, 27.9,\n",
       "        44.5, 41.5, 53.3, 52.6, 37.2, 60.4],\n",
       "       [53.4, 48.6, 62. , 52.5, 45.1, 47.3, 46.4, 52.1, 63.7, 46.3, 39.9,\n",
       "        40.8, 46.7, 40.2, 26.3, 51.4, 34.4, 51.1, 60.1, 48.8, 63.3, 53.7,\n",
       "        37.7, 53.9, 43.1, 54.7, 60.2, 27.9, 44. , 58.1, 57.4, 43.6, 34.1,\n",
       "        42.3, 62.5, 61.9, 55. , 48.4, 41.3, 50. , 38.5, 49.5, 55.9, 56. ,\n",
       "        50.1, 49. , 48. , 57.5, 46. , 54.6],\n",
       "       [55. , 45.7, 54.6, 49.6, 42.4, 46.9, 44.2, 48.7, 55.7, 58.5, 69.8,\n",
       "        55.3, 43.7, 46.8, 33.9, 65.2, 42. , 51. , 50.2, 35.4, 32.7, 45.4,\n",
       "        36.8, 46.7, 49. , 49.4, 67.9, 53.2, 48.7, 43.4, 49.3, 50.7, 43.9,\n",
       "        42.2, 52.7, 66.1, 47.7, 46.8, 45.9, 61.4, 58. , 44.1, 42.6, 45.3,\n",
       "        47.7, 40.1, 68.6, 51.6, 70.5, 49.6],\n",
       "       [61.2, 58.1, 54.9, 52.7, 64.8, 55.5, 42.5, 45.6, 50.7, 48.8, 56.3,\n",
       "        57.8, 52.1, 49.8, 49. , 44.2, 43.7, 48.3, 65.7, 50.7, 52.4, 44.2,\n",
       "        54.9, 43.4, 43.8, 40. , 65.2, 58.4, 44.7, 61.1, 47.9, 34.9, 71.9,\n",
       "        67.1, 55.9, 45.6, 39.3, 41.8, 36.8, 55.4, 53.6, 54. , 45.8, 62.1,\n",
       "        50.6, 65.1, 66.4, 57.4, 38. , 37.3],\n",
       "       [52.9, 56.9, 52.7, 49. , 59.7, 58. , 44.1, 50.4, 45.6, 55.5, 45.9,\n",
       "        61.5, 60.6, 47. , 48.7, 55.7, 57.7, 48.7, 39.8, 50.8, 48.4, 57. ,\n",
       "        63.1, 43. , 61.5, 39. , 40.2, 45.8, 55.3, 60.1, 62.9, 52.5, 56.3,\n",
       "        46.5, 53.2, 52.2, 48.4, 52. , 57.1, 56.1, 41.7, 39.2, 55.5, 65.3,\n",
       "        66.1, 53.8, 53. , 41.6, 48.6, 35. ],\n",
       "       [49.5, 50.5, 66.2, 48.5, 59.2, 58.4, 51.7, 44.2, 30.3, 43.9, 48.3,\n",
       "        33.8, 46.1, 54.2, 39.8, 42.5, 64.4, 58. , 56.6, 36.6, 53.2, 62. ,\n",
       "        44.5, 45. , 41.9, 35.7, 47.8, 31.8, 44.2, 70. , 56.5, 35.2, 51.2,\n",
       "        51.2, 49.6, 40.3, 53.5, 43.7, 58. , 64.3, 55.5, 44.8, 46.3, 52.1,\n",
       "        53.4, 65. , 46.6, 51. , 44.2, 50.6],\n",
       "       [36.4, 20.8, 38.8, 45.3, 65.5, 59.9, 55.5, 46.3, 62.3, 61. , 47.5,\n",
       "        31.2, 40.8, 40. , 39.6, 46.7, 42.2, 54.8, 46.1, 43.1, 49.6, 33.9,\n",
       "        42.3, 60.3, 35. , 53.1, 56. , 65.8, 40. , 61.2, 48.4, 27.3, 55.5,\n",
       "        46.5, 50.5, 57.9, 47. , 36.9, 53.6, 56.7, 47.5, 55.5, 68. , 52.8,\n",
       "        52.8, 44.4, 64.4, 49.5, 38.9, 63. ],\n",
       "       [63.8, 44.8, 56.4, 48.7, 59.8, 55.9, 47.8, 60.5, 52. , 53.5, 56.8,\n",
       "        56.8, 53.4, 63. , 56. , 41.9, 40. , 45.8, 36.8, 35.1, 46.3, 56.9,\n",
       "        62. , 53. , 71.7, 54.8, 63.5, 51.4, 45.2, 47.2, 31.6, 43.7, 49.5,\n",
       "        51.2, 51.3, 72.8, 51.6, 53.1, 60.8, 55.4, 58.5, 51.2, 63.9, 34.5,\n",
       "        46.3, 49. , 54.6, 44.2, 41.3, 50.8],\n",
       "       [51. , 49.5, 76.9, 48.1, 46.5, 55.1, 49.5, 57.1, 58.1, 54.9, 33.2,\n",
       "        52.4, 43.7, 72.9, 46.3, 60.2, 57.3, 50.4, 59. , 64.4, 44.7, 45.7,\n",
       "        40.4, 44.9, 54.8, 48. , 53.4, 36.1, 45.6, 49.1, 81.1, 53.8, 45. ,\n",
       "        44.7, 50.9, 48.4, 59.3, 48. , 50.4, 48. , 33.2, 46.2, 47.3, 50.1,\n",
       "        48.9, 58.8, 53.2, 52.2, 50.2, 55.8],\n",
       "       [52.5, 70.9, 39.3, 37.1, 38.1, 49.5, 40.1, 51.2, 50.7, 47.2, 39.1,\n",
       "        49.6, 50.1, 49.6, 46.2, 48.2, 39.8, 27.9, 44.4, 42.4, 35.4, 61.9,\n",
       "        49.9, 52.5, 43.2, 42.7, 30. , 68. , 48.8, 47. , 57.4, 47.4, 67.2,\n",
       "        55.9, 59.3, 30.1, 33.8, 44.2, 45.4, 36.9, 46.2, 48. , 39. , 60.9,\n",
       "        52.1, 52.1, 43. , 55.2, 50.1, 46.6]])"
      ]
     },
     "execution_count": 11,
     "metadata": {},
     "output_type": "execute_result"
    }
   ],
   "source": [
    "np.array(np.split(A, 10)).mean(axis=0)\n"
   ]
  },
  {
   "cell_type": "markdown",
   "metadata": {},
   "source": [
    "# Задание 2.10 (4 балла)\n",
    "\n",
    "\"Разверните\" массив `A` в одномерный массив. Оставьте в нём только уникальные элементы в том же порядке, в котором они встречаются в массиве. Используйте [np.unique()](https://numpy.org/doc/stable/reference/generated/numpy.unique.html)"
   ]
  },
  {
   "cell_type": "code",
   "execution_count": 12,
   "metadata": {},
   "outputs": [
    {
     "data": {
      "text/plain": [
       "array([68, 92, 94, 78, 18, 60, 54, 89, 69, 77, 93, 49, 83, 58, 76, 42, 27,\n",
       "       56, 66, 91, 36,  1, 23,  9, 82, 84, 10, 33, 48, 81, 28, 57, 75,  6,\n",
       "       46, 31, 19, 17, 90, 86, 64,  7, 85, 35, 29, 34, 51, 25, 15, 11, 38,\n",
       "       21, 45, 16, 30, 67, 63, 72, 97,  5, 59,  2, 98, 96, 99, 71, 24, 32,\n",
       "       39, 41, 95, 80, 20, 26, 14, 74,  3, 88,  4, 13, 37, 70, 55, 47, 52,\n",
       "       87, 44, 53, 61, 65, 50, 62, 43, 73, 79, 40, 22,  8,  0, 12])"
      ]
     },
     "execution_count": 12,
     "metadata": {},
     "output_type": "execute_result"
    }
   ],
   "source": [
    "unique_nums, idxs = np.unique(A.reshape(-1), return_index=True)\n",
    "unique_nums[idxs.argsort()]\n"
   ]
  },
  {
   "cell_type": "markdown",
   "metadata": {},
   "source": [
    "# Задание 2.11 (3 балла)\n",
    "\n",
    "Создайте одномерный массив размерности $200$, в котором каждый элемент - евклидово расстояние между соответствующей строкой `A` и \"средней\" строкой `A`"
   ]
  },
  {
   "cell_type": "code",
   "execution_count": 13,
   "metadata": {},
   "outputs": [
    {
     "data": {
      "text/plain": [
       "array([193.54745277, 224.31358959, 190.83630806, 223.05464908,\n",
       "       179.24582694, 199.71431214, 211.24690879, 191.42350032,\n",
       "       191.65992402, 189.12627124, 218.46767833, 224.07859441,\n",
       "       209.88710412, 201.0797018 , 204.03917877, 195.07195205,\n",
       "       202.95313862, 209.15043982, 222.95467359, 188.58389771,\n",
       "       222.42137144, 217.09983067, 222.19308377, 207.74777129,\n",
       "       197.07325155, 177.87087023, 197.55236388, 189.84139821,\n",
       "       211.21189946, 222.36527713, 204.6026551 , 216.36990658,\n",
       "       195.4830593 , 185.93132193, 210.08487922, 212.00591142,\n",
       "       202.98272457, 197.4766226 , 200.04898519, 189.7222087 ,\n",
       "       220.57279178, 195.50234391, 206.17848209, 204.24545644,\n",
       "       206.65946984, 212.8149348 , 209.18402538, 189.16803767,\n",
       "       194.45240157, 184.92551602, 201.04513542, 216.96372156,\n",
       "       195.05406039, 212.68551073, 210.38067039, 212.4405481 ,\n",
       "       199.44286519, 211.86749745, 207.84765208, 234.90065235,\n",
       "       193.10514357, 223.35856034, 200.20508604, 190.59516383,\n",
       "       174.67674852, 189.69506181, 193.00771092, 197.98948577,\n",
       "       199.16683076, 187.97815425, 194.24712733, 204.13497122,\n",
       "       187.45734575, 212.69818164, 182.62288048, 186.51958738,\n",
       "       205.78074855, 201.61174687, 193.54089096, 175.35320492,\n",
       "       212.03472941, 225.03314528, 227.31156256, 212.5955467 ,\n",
       "       207.15676787, 218.29957965, 208.59172197, 182.71287988,\n",
       "       183.64570911, 193.56070488, 181.74869044, 186.49192067,\n",
       "       204.66735567, 192.90105359, 200.48293313, 223.01546241,\n",
       "       217.92743397, 187.38395469, 224.18567411, 198.03718458,\n",
       "       180.22104892, 210.54929702, 210.16487926, 216.35518592,\n",
       "       213.91128179, 201.98729286, 196.97402487, 234.97260792,\n",
       "       191.49137441, 195.74753249, 191.31052369, 205.04791263,\n",
       "       193.44951919, 185.57326444, 214.31413037, 202.20271134,\n",
       "       216.56351603, 189.21946643, 201.86378198, 170.16514471,\n",
       "       201.65806821, 223.88643656, 223.07973121, 183.25462197,\n",
       "       211.70143239, 215.46534866, 219.57533212, 187.72883762,\n",
       "       231.34052061, 193.01716627, 210.62351833, 213.45270313,\n",
       "       194.58786312, 212.95977666, 214.17711473, 194.45283869,\n",
       "       220.85752528, 183.88908743, 217.67752864, 216.41921466,\n",
       "       200.99519018, 184.30761372, 218.2259528 , 199.92907861,\n",
       "       196.95054322, 182.23503087, 190.39880902, 226.43607591,\n",
       "       180.85421332, 200.48732248, 211.10659979, 214.28708891,\n",
       "       204.6838696 , 201.2628045 , 201.77109921, 222.20023959,\n",
       "       218.50163952, 202.88552554, 194.40022241, 201.2681457 ,\n",
       "       221.01723117, 191.87315204, 193.56388216, 210.51134524,\n",
       "       221.9226813 , 194.20743156, 207.2551    , 196.9478014 ,\n",
       "       206.28302517, 216.4285713 , 196.31924632, 216.62817563,\n",
       "       210.59272655, 199.36129633, 190.09935948, 195.19468864,\n",
       "       207.77421995, 207.24429178, 187.28578824, 198.18929455,\n",
       "       225.73970957, 196.86829728, 205.35957848, 187.36687668,\n",
       "       209.46805598, 210.9865552 , 224.78195318, 208.00979899,\n",
       "       213.19520744, 203.15375083, 202.48260783, 209.13753005,\n",
       "       213.13018668, 199.24732489, 221.50326516, 239.17315166,\n",
       "       210.43855748, 198.20107587, 204.09141696, 187.01349276])"
      ]
     },
     "execution_count": 13,
     "metadata": {},
     "output_type": "execute_result"
    }
   ],
   "source": [
    "np.linalg.norm(A - A.mean(axis=0), axis=1)\n"
   ]
  },
  {
   "cell_type": "markdown",
   "metadata": {},
   "source": [
    "# Задание 2.12 (2 балла)\n",
    "\n",
    "Создайте новый массив, который состоит из элементов `A`, измененных по следующим правилам:\n",
    "- если элемент меньше $50$, то он умножается на $2$\n",
    "- в противном случае он умножается на $3$\n",
    "\n",
    "Используйте [np.where()](https://numpy.org/doc/stable/reference/generated/numpy.where.html)"
   ]
  },
  {
   "cell_type": "code",
   "execution_count": 14,
   "metadata": {},
   "outputs": [
    {
     "data": {
      "text/plain": [
       "array([[136, 184, 188, ..., 138,  93,  57],\n",
       "       [ 51, 168, 180, ..., 196, 192, 198],\n",
       "       [ 27, 116,  57, ..., 147, 164,  21],\n",
       "       ...,\n",
       "       [117, 122, 196, ...,  36, 126, 170],\n",
       "       [129,  87, 186, ..., 138,  72,  60],\n",
       "       [154, 124, 122, ...,  51,  84,  57]])"
      ]
     },
     "execution_count": 14,
     "metadata": {},
     "output_type": "execute_result"
    }
   ],
   "source": [
    "X = np.where(A < 50, A, A * 2)\n",
    "X = np.where(A >= 50, X, X * 3)\n",
    "X"
   ]
  },
  {
   "cell_type": "markdown",
   "metadata": {},
   "source": [
    "# Задание 2.13 (7 баллов)\n",
    "\n",
    "Разверните массив `A` в одномерный массив. Создайте три новых массива, подсчитав скользящие средние по окнам $3$, $5$, $10$. Найдите сумму этих массивов, выровнив из размерности нулями справа\n",
    "\n",
    "*Tip: реализуйте функцию, которая считает скользящее среднее. Используйте [np.cumsum()](https://numpy.org/doc/stable/reference/generated/numpy.cumsum.html) или [np.convolve()](https://numpy.org/doc/stable/reference/generated/numpy.convolve.html)*"
   ]
  },
  {
   "cell_type": "code",
   "execution_count": 15,
   "metadata": {},
   "outputs": [
    {
     "data": {
      "text/plain": [
       "array([218.66666667, 221.3       , 181.93333333, ...,  47.26666667,\n",
       "        17.33333333,  21.33333333])"
      ]
     },
     "execution_count": 15,
     "metadata": {},
     "output_type": "execute_result"
    }
   ],
   "source": [
    "def moving_average(a, n):\n",
    "    ret = np.cumsum(a, dtype=float)\n",
    "    ret[n:] = ret[n:] - ret[:-n]\n",
    "    return ret[n - 1 :] / n\n",
    "\n",
    "\n",
    "(\n",
    "    moving_average(A.reshape(-1), 3)\n",
    "    + np.concatenate([moving_average(A.reshape(-1), 5), np.zeros(2)])\n",
    "    + np.concatenate([moving_average(A.reshape(-1), 10), np.zeros(7)])\n",
    ")\n"
   ]
  },
  {
   "cell_type": "markdown",
   "metadata": {},
   "source": [
    "# Задание 2.14 (8 баллов)\n",
    "\n",
    "Постройте график функции $$f(x) = (5  \\sin(2x) - \\cos^2(x) - 1 + |x^3| - x^2) / (x^2 + 1)$$  \n",
    "\n",
    "и производной от этой функции.  Найдите минимум с помощью `scipy` и обозначьте его на графике. На этой же оси постройте графики скользящего среднего этой функции с окном $1$, $2$, $5$."
   ]
  },
  {
   "cell_type": "code",
   "execution_count": 16,
   "metadata": {},
   "outputs": [
    {
     "data": {
      "image/png": "[encoded data removed]",
      "text/plain": [
       "<Figure size 1500x1200 with 1 Axes>"
      ]
     },
     "metadata": {},
     "output_type": "display_data"
    }
   ],
   "source": [
    "import matplotlib.pyplot as plt\n",
    "from scipy.misc import derivative\n",
    "from scipy.optimize import minimize\n",
    "\n",
    "\n",
    "def f(x):\n",
    "    return (5 * np.sin(2 * x) - np.cos(x) ** 2 - 1 + np.abs(x**3) - x**2) / (\n",
    "        x**2 + 1\n",
    "    )\n",
    "\n",
    "info = minimize(f, x0=-1)\n",
    "y_min = info['fun']\n",
    "x_min = info['x'][0]\n",
    "\n",
    "x = np.linspace(-10, 10, 200)\n",
    "y = f(x)\n",
    "\n",
    "figure = plt.figure(figsize=(15, 12))\n",
    "\n",
    "plt.plot(x, y, label='f')\n",
    "plt.plot(x, derivative(f, x), label=\"f'\")\n",
    "plt.plot(x_min, y_min, marker='x', label='min')\n",
    "plt.plot(x, moving_average(y, 1), label='moving average - 1 (same as f)')\n",
    "plt.plot(x[:-1], moving_average(y, 2), label='moving average - 2')\n",
    "plt.plot(x[:-4], moving_average(y, 5), label='moving average - 5')\n",
    "plt.legend()\n",
    "plt.show()\n"
   ]
  },
  {
   "cell_type": "markdown",
   "metadata": {},
   "source": [
    "# Задание 2.15 (10 баллов)\n",
    "\n",
    "Есть следующий алгоритм семплинирования, на вход функции подается вектор из целых положительных чисел и число семплов."
   ]
  },
  {
   "cell_type": "code",
   "execution_count": 17,
   "metadata": {},
   "outputs": [
    {
     "data": {
      "text/plain": [
       "[0, 0, 0, 0, 0]"
      ]
     },
     "execution_count": 17,
     "metadata": {},
     "output_type": "execute_result"
    }
   ],
   "source": [
    "def sample(x: list[int], c: int) -> list[int]:\n",
    "    assert len(x) > 0\n",
    "\n",
    "    s = np.sum(x)\n",
    "    res = []\n",
    "    for _ in range(c):\n",
    "        val = s * np.random.random()\n",
    "        cur, idx = 0, 0\n",
    "        while cur + x[idx] <= val:\n",
    "            cur += x[idx]\n",
    "            idx += 1\n",
    "\n",
    "        res.append(idx)\n",
    "    return res\n",
    "\n",
    "\n",
    "sample([50, 3, 1, 7, 20], 5)\n"
   ]
  },
  {
   "cell_type": "markdown",
   "metadata": {},
   "source": [
    "Реализуйте данный алгоритм более оптимальным способом на массивах `numpy`, без использования циклов. Проверьте корректность и идентичность алгоритмов семплирования с помощью статистических тестов."
   ]
  },
  {
   "cell_type": "code",
   "execution_count": 18,
   "metadata": {},
   "outputs": [
    {
     "data": {
      "text/plain": [
       "array([0, 0, 0, 4, 4])"
      ]
     },
     "execution_count": 18,
     "metadata": {},
     "output_type": "execute_result"
    }
   ],
   "source": [
    "import numpy.typing as npt\n",
    "import toolz\n",
    "\n",
    "\n",
    "def np_sample(x: npt.NDArray[np.int64], c: int) -> npt.NDArray[np.int64]:\n",
    "    \"\"\"`numpy`-powered sampling.\n",
    "\n",
    "    Args:\n",
    "        x (npt.NDArray[np.int64]): vector.\n",
    "        c (int): number of sample.\n",
    "\n",
    "    Returns:\n",
    "        npt.NDArray[np.int64]: selected indexes.\n",
    "    \"\"\"\n",
    "    # assert is unsafe\n",
    "    # see: https://bandit.readthedocs.io/en/latest/plugins/b101_assert_used.html\n",
    "    if len(x) <= 0:\n",
    "        raise ValueError(\"Vector length is less than 0\", len(x))\n",
    "\n",
    "    random_values = np.random.rand(c) * x.sum()\n",
    "    random_values = random_values.reshape(-1, 1)\n",
    "    \n",
    "    cumsums = np.cumsum(x).reshape(1, -1)\n",
    "    cumsums = np.repeat(cumsums, c, axis=0)\n",
    "\n",
    "    mask = cumsums < random_values\n",
    "    return mask.sum(axis=1)\n",
    "\n",
    "np_sample(np.array([50, 3, 1, 7, 20]), 5)"
   ]
  },
  {
   "cell_type": "code",
   "execution_count": 21,
   "metadata": {},
   "outputs": [],
   "source": [
    "x = np.random.randint(0, 100, size=(1_000,))\n",
    "c = 1_000"
   ]
  },
  {
   "cell_type": "code",
   "execution_count": 22,
   "metadata": {},
   "outputs": [
    {
     "name": "stdout",
     "output_type": "stream",
     "text": [
      "455 ms ± 12.6 ms per loop (mean ± std. dev. of 7 runs, 1 loop each)\n"
     ]
    }
   ],
   "source": [
    "%%timeit\n",
    "s_default = sample(x, c) # type:ignore"
   ]
  },
  {
   "cell_type": "code",
   "execution_count": 23,
   "metadata": {},
   "outputs": [
    {
     "name": "stdout",
     "output_type": "stream",
     "text": [
      "2.32 ms ± 52.6 µs per loop (mean ± std. dev. of 7 runs, 100 loops each)\n"
     ]
    }
   ],
   "source": [
    "%%timeit\n",
    "s_np = np_sample(x, c)"
   ]
  },
  {
   "cell_type": "code",
   "execution_count": 24,
   "metadata": {},
   "outputs": [
    {
     "data": {
      "text/plain": [
       "<AxesSubplot: ylabel='Count'>"
      ]
     },
     "execution_count": 24,
     "metadata": {},
     "output_type": "execute_result"
    },
    {
     "data": {
      "image/png": "[encoded data removed]",
      "text/plain": [
       "<Figure size 640x480 with 1 Axes>"
      ]
     },
     "metadata": {},
     "output_type": "display_data"
    }
   ],
   "source": [
    "s_default = sample(x, c)  # type:ignore\n",
    "s_np = np_sample(x, c)\n",
    "sns.histplot(s_np, color='blue', bins=20)  # type: ignore\n",
    "sns.histplot(s_default, color='red', bins=20)  # type: ignore\n"
   ]
  },
  {
   "cell_type": "code",
   "execution_count": 25,
   "metadata": {},
   "outputs": [
    {
     "data": {
      "text/plain": [
       "<AxesSubplot: ylabel='Count'>"
      ]
     },
     "execution_count": 25,
     "metadata": {},
     "output_type": "execute_result"
    },
    {
     "data": {
      "image/png": "[encoded data removed]",
      "text/plain": [
       "<Figure size 640x480 with 1 Axes>"
      ]
     },
     "metadata": {},
     "output_type": "display_data"
    }
   ],
   "source": [
    "sns.histplot(x[s_np], color=\"blue\", bins=20)  # type: ignore\n",
    "sns.histplot(x[s_default], color=\"red\", bins=20)  # type: ignore\n"
   ]
  },
  {
   "attachments": {},
   "cell_type": "markdown",
   "metadata": {},
   "source": [
    "Samples seem to be pretty similar. Let's check it with `ttest_ind` with $\\alpha\n",
    "= 0.05$. We use `ttest_ind` as it is used for checking null hypothesis that 2\n",
    "independent samples have identical average values.\n",
    "\n",
    "See [manual](https://docs.scipy.org/doc/scipy/reference/generated/scipy.stats.ttest_ind.html)."
   ]
  },
  {
   "cell_type": "code",
   "execution_count": 26,
   "metadata": {},
   "outputs": [
    {
     "name": "stdout",
     "output_type": "stream",
     "text": [
      "stat=-0.862, p=0.389\n"
     ]
    }
   ],
   "source": [
    "from scipy.stats import ttest_ind\n",
    "\n",
    "stat, p = ttest_ind(s_default, s_np)\n",
    "print(f\"{stat=:.3f}, {p=:.3f}\")"
   ]
  },
  {
   "attachments": {},
   "cell_type": "markdown",
   "metadata": {},
   "source": [
    "According to `p-value` we can't reject null hypothesis."
   ]
  },
  {
   "cell_type": "markdown",
   "metadata": {},
   "source": [
    "# Задание 2.16 (5 баллов)\n",
    "\n",
    "Есть следующий алгоритм \"случайного блуждания\""
   ]
  },
  {
   "cell_type": "code",
   "execution_count": 27,
   "metadata": {},
   "outputs": [
    {
     "data": {
      "text/plain": [
       "2046"
      ]
     },
     "execution_count": 27,
     "metadata": {},
     "output_type": "execute_result"
    }
   ],
   "source": [
    "import random\n",
    "\n",
    "\n",
    "def walk(n: int):\n",
    "    cur_position = 0\n",
    "    for i in range(n):\n",
    "        cur_position += random.choice([-3, -1, 0, 2, 3])\n",
    "\n",
    "    return cur_position\n",
    "\n",
    "\n",
    "walk(10_000)\n"
   ]
  },
  {
   "cell_type": "markdown",
   "metadata": {},
   "source": [
    "Реализуйте более эффективную версию с помощью `numpy`, сравните производительность (используя, например, magic `timeit`). Воспользовавшись [kdeplot()](https://seaborn.pydata.org/generated/seaborn.kdeplot.html) или аналогами, постройте график распределения значений `walk(10_000)` на каком-то разумном числе запусков. "
   ]
  },
  {
   "cell_type": "code",
   "execution_count": 28,
   "metadata": {},
   "outputs": [],
   "source": [
    "def np_walk(n: int):\n",
    "    return np.random.choice([-3, -1, 0, 2, 3], size=n).sum()"
   ]
  },
  {
   "cell_type": "code",
   "execution_count": 29,
   "metadata": {},
   "outputs": [
    {
     "name": "stdout",
     "output_type": "stream",
     "text": [
      "29.6 ms ± 141 µs per loop (mean ± std. dev. of 7 runs, 10 loops each)\n"
     ]
    }
   ],
   "source": [
    "%%timeit\n",
    "walk(100_000)"
   ]
  },
  {
   "cell_type": "code",
   "execution_count": 30,
   "metadata": {},
   "outputs": [
    {
     "name": "stdout",
     "output_type": "stream",
     "text": [
      "1.15 ms ± 8.89 µs per loop (mean ± std. dev. of 7 runs, 1,000 loops each)\n"
     ]
    }
   ],
   "source": [
    "%%timeit\n",
    "np_walk(100_000)"
   ]
  },
  {
   "cell_type": "code",
   "execution_count": 31,
   "metadata": {},
   "outputs": [],
   "source": [
    "np_walk_ufunc = np.frompyfunc(np_walk, 1, 1)\n",
    "walk_ufunc = np.frompyfunc(walk, 1, 1)\n",
    "np_res =np_walk_ufunc(np.random.randint(10_000, 10_001, size=(10_000,)))\n",
    "_res = walk_ufunc(np.random.randint(10_000, 10_001, size=(10_000,)))"
   ]
  },
  {
   "cell_type": "code",
   "execution_count": 32,
   "metadata": {},
   "outputs": [
    {
     "data": {
      "text/plain": [
       "<AxesSubplot: ylabel='Density'>"
      ]
     },
     "execution_count": 32,
     "metadata": {},
     "output_type": "execute_result"
    },
    {
     "data": {
      "image/png": "[encoded data removed]",
      "text/plain": [
       "<Figure size 640x480 with 1 Axes>"
      ]
     },
     "metadata": {},
     "output_type": "display_data"
    }
   ],
   "source": [
    "sns.kdeplot([np_res, _res])"
   ]
  },
  {
   "cell_type": "markdown",
   "metadata": {},
   "source": [
    "# Задание 2.17 (5 баллов)\n",
    "\n",
    "Имеется функция, которая проделывает достаточно странные манипуляции с массивом `numpy`"
   ]
  },
  {
   "cell_type": "code",
   "execution_count": 33,
   "metadata": {},
   "outputs": [
    {
     "data": {
      "text/plain": [
       "0.34806555107676046"
      ]
     },
     "execution_count": 33,
     "metadata": {},
     "output_type": "execute_result"
    }
   ],
   "source": [
    "import numpy.typing as npt\n",
    "\n",
    "\n",
    "def strange_conv(a: npt.NDArray[np.float64]) -> np.float64:\n",
    "    x = a.shape[0]\n",
    "    y = a.shape[1]\n",
    "\n",
    "    t = 1.0\n",
    "    for y in range(y - 5):\n",
    "        for x in range(x - 3):\n",
    "            c = 1.5 * a[y + 1, x + 2] - a[y + 5, x + 3] * a[y, x] + 0.2 * a[y + 4, x]\n",
    "            t = 0.2 * t + 0.8 * c\n",
    "\n",
    "    return t\n",
    "\n",
    "\n",
    "a = np.random.random((10000, 10000))\n",
    "strange_conv(a)\n"
   ]
  },
  {
   "cell_type": "markdown",
   "metadata": {},
   "source": [
    "Оптимизируйте данную функцию с помощью (2 на выбор):\n",
    "- [Numba](https://numba.pydata.org)\n",
    "- `Cython` (+5 баллов)\n",
    "- [Taichi](https://github.com/taichi-dev/taichi) (+5 баллов)\n",
    "- `Pythran `[[1]](https://pythran.readthedocs.io/en/latest/), [[2]](https://serge-sans-paille.github.io/pythran-stories/pythran-tutorial.html) (+2 балла)\n",
    "\n",
    "Сравните производительность."
   ]
  },
  {
   "cell_type": "code",
   "execution_count": 34,
   "metadata": {},
   "outputs": [
    {
     "name": "stdout",
     "output_type": "stream",
     "text": [
      "Requirement already satisfied: numba==0.55.2 in ./.venv/lib/python3.10/site-packages (0.55.2)\n",
      "Requirement already satisfied: setuptools in ./.venv/lib/python3.10/site-packages (from numba==0.55.2) (66.0.0)\n",
      "Requirement already satisfied: llvmlite<0.39,>=0.38.0rc1 in ./.venv/lib/python3.10/site-packages (from numba==0.55.2) (0.38.1)\n",
      "Requirement already satisfied: numpy<1.23,>=1.18 in ./.venv/lib/python3.10/site-packages (from numba==0.55.2) (1.22.4)\n",
      "Note: you may need to restart the kernel to use updated packages.\n"
     ]
    }
   ],
   "source": [
    "# !poetry add numba@0.55.2\n",
    "%pip install numba==0.55.2"
   ]
  },
  {
   "cell_type": "code",
   "execution_count": 38,
   "metadata": {},
   "outputs": [],
   "source": [
    "import numba\n",
    "\n",
    "numba_strange_conv = numba.jit(nopython=True)(strange_conv)"
   ]
  },
  {
   "cell_type": "code",
   "execution_count": 36,
   "metadata": {},
   "outputs": [
    {
     "name": "stdout",
     "output_type": "stream",
     "text": [
      "6.87 s ± 116 ms per loop (mean ± std. dev. of 7 runs, 1 loop each)\n"
     ]
    }
   ],
   "source": [
    "%%timeit\n",
    "strange_conv(a)"
   ]
  },
  {
   "cell_type": "code",
   "execution_count": 40,
   "metadata": {},
   "outputs": [
    {
     "name": "stdout",
     "output_type": "stream",
     "text": [
      "28.2 ms ± 281 µs per loop (mean ± std. dev. of 7 runs, 10 loops each)\n"
     ]
    }
   ],
   "source": [
    "%%timeit\n",
    "numba_strange_conv(a)"
   ]
  },
  {
   "cell_type": "code",
   "execution_count": 46,
   "metadata": {},
   "outputs": [
    {
     "name": "stdout",
     "output_type": "stream",
     "text": [
      "Using version \u001b[39;1m^0.29.33\u001b[39;22m for \u001b[36mcython\u001b[39m\n",
      "\n",
      "\u001b[34mUpdating dependencies\u001b[39m\n",
      "\u001b[2K\u001b[34mResolving dependencies...\u001b[39m \u001b[39;2m(1.0s)\u001b[39;22ms://files.pythonhosted.org/packages/56/3a/e59db3769dee48409c759a88b62cd605324e05d396e10af0a065adc956ad/Cython-0.29.33-py2.py3-none-any.whl\u001b[39m \u001b[39;2m(0.5s)\u001b[39;22m\n",
      "\n",
      "\u001b[34mWriting lock file\u001b[39m\n",
      "\n",
      "\u001b[39;1mPackage operations\u001b[39;22m: \u001b[34m1\u001b[39m install, \u001b[34m1\u001b[39m update, \u001b[34m0\u001b[39m removals\n",
      "\n",
      "  \u001b[34;1m•\u001b[39;22m \u001b[39mUpdating \u001b[39m\u001b[36mnumpy\u001b[39m\u001b[39m (\u001b[39m\u001b[39;1m1.22.4\u001b[39;22m\u001b[39m -> \u001b[39m\u001b[39;1m1.23.5\u001b[39;22m\u001b[39m)\u001b[39m: \u001b[34mPending...\u001b[39m\n",
      "\u001b[1A\u001b[0J  \u001b[34;1m•\u001b[39;22m \u001b[39mUpdating \u001b[39m\u001b[36mnumpy\u001b[39m\u001b[39m (\u001b[39m\u001b[39;1m1.22.4\u001b[39;22m\u001b[39m -> \u001b[39m\u001b[39;1m1.23.5\u001b[39;22m\u001b[39m)\u001b[39m: \u001b[34mInstalling...\u001b[39m\n",
      "\u001b[1A\u001b[0J  \u001b[32;1m•\u001b[39;22m \u001b[39mUpdating \u001b[39m\u001b[36mnumpy\u001b[39m\u001b[39m (\u001b[39m\u001b[39;1m1.22.4\u001b[39;22m\u001b[39m -> \u001b[39m\u001b[32m1.23.5\u001b[39m\u001b[39m)\u001b[39m\n",
      "  \u001b[34;1m•\u001b[39;22m \u001b[39mInstalling \u001b[39m\u001b[36mcython\u001b[39m\u001b[39m (\u001b[39m\u001b[39;1m0.29.33\u001b[39;22m\u001b[39m)\u001b[39m: \u001b[34mPending...\u001b[39m\n",
      "\u001b[1A\u001b[0J  \u001b[34;1m•\u001b[39;22m \u001b[39mInstalling \u001b[39m\u001b[36mcython\u001b[39m\u001b[39m (\u001b[39m\u001b[39;1m0.29.33\u001b[39;22m\u001b[39m)\u001b[39m: \u001b[34mDownloading...\u001b[39m \u001b[39;1m0%\u001b[39;22m\n",
      "\u001b[1A\u001b[0J  \u001b[34;1m•\u001b[39;22m \u001b[39mInstalling \u001b[39m\u001b[36mcython\u001b[39m\u001b[39m (\u001b[39m\u001b[39;1m0.29.33\u001b[39;22m\u001b[39m)\u001b[39m: \u001b[34mDownloading...\u001b[39m \u001b[39;1m30%\u001b[39;22m\n",
      "\u001b[1A\u001b[0J  \u001b[34;1m•\u001b[39;22m \u001b[39mInstalling \u001b[39m\u001b[36mcython\u001b[39m\u001b[39m (\u001b[39m\u001b[39;1m0.29.33\u001b[39;22m\u001b[39m)\u001b[39m: \u001b[34mDownloading...\u001b[39m \u001b[39;1m100%\u001b[39;22m\n",
      "\u001b[1A\u001b[0J  \u001b[34;1m•\u001b[39;22m \u001b[39mInstalling \u001b[39m\u001b[36mcython\u001b[39m\u001b[39m (\u001b[39m\u001b[39;1m0.29.33\u001b[39;22m\u001b[39m)\u001b[39m: \u001b[34mInstalling...\u001b[39m\n",
      "\u001b[1A\u001b[0J  \u001b[32;1m•\u001b[39;22m \u001b[39mInstalling \u001b[39m\u001b[36mcython\u001b[39m\u001b[39m (\u001b[39m\u001b[32m0.29.33\u001b[39m\u001b[39m)\u001b[39m\n"
     ]
    }
   ],
   "source": [
    "!poetry add Cython"
   ]
  },
  {
   "cell_type": "code",
   "execution_count": 47,
   "metadata": {},
   "outputs": [],
   "source": [
    "%load_ext Cython"
   ]
  },
  {
   "cell_type": "code",
   "execution_count": 54,
   "metadata": {},
   "outputs": [
    {
     "data": {
      "text/html": [
       "<!DOCTYPE html>\n",
       "<!-- Generated by Cython 0.29.33 -->\n",
       "<html>\n",
       "<head>\n",
       "    <meta http-equiv=\"Content-Type\" content=\"text/html; charset=utf-8\" />\n",
       "    <title>Cython: _cython_magic_476658cbb193820fd439e20aca842ed2.pyx</title>\n",
       "    <style type=\"text/css\">\n",
       "    \n",
       "body.cython { font-family: courier; font-size: 12; }\n",
       "\n",
       ".cython.tag  {  }\n",
       ".cython.line { margin: 0em }\n",
       ".cython.code { font-size: 9; color: #444444; display: none; margin: 0px 0px 0px 8px; border-left: 8px none; }\n",
       "\n",
       ".cython.line .run { background-color: #B0FFB0; }\n",
       ".cython.line .mis { background-color: #FFB0B0; }\n",
       ".cython.code.run  { border-left: 8px solid #B0FFB0; }\n",
       ".cython.code.mis  { border-left: 8px solid #FFB0B0; }\n",
       "\n",
       ".cython.code .py_c_api  { color: red; }\n",
       ".cython.code .py_macro_api  { color: #FF7000; }\n",
       ".cython.code .pyx_c_api  { color: #FF3000; }\n",
       ".cython.code .pyx_macro_api  { color: #FF7000; }\n",
       ".cython.code .refnanny  { color: #FFA000; }\n",
       ".cython.code .trace  { color: #FFA000; }\n",
       ".cython.code .error_goto  { color: #FFA000; }\n",
       "\n",
       ".cython.code .coerce  { color: #008000; border: 1px dotted #008000 }\n",
       ".cython.code .py_attr { color: #FF0000; font-weight: bold; }\n",
       ".cython.code .c_attr  { color: #0000FF; }\n",
       ".cython.code .py_call { color: #FF0000; font-weight: bold; }\n",
       ".cython.code .c_call  { color: #0000FF; }\n",
       "\n",
       ".cython.score-0 {background-color: #FFFFff;}\n",
       ".cython.score-1 {background-color: #FFFFe7;}\n",
       ".cython.score-2 {background-color: #FFFFd4;}\n",
       ".cython.score-3 {background-color: #FFFFc4;}\n",
       ".cython.score-4 {background-color: #FFFFb6;}\n",
       ".cython.score-5 {background-color: #FFFFaa;}\n",
       ".cython.score-6 {background-color: #FFFF9f;}\n",
       ".cython.score-7 {background-color: #FFFF96;}\n",
       ".cython.score-8 {background-color: #FFFF8d;}\n",
       ".cython.score-9 {background-color: #FFFF86;}\n",
       ".cython.score-10 {background-color: #FFFF7f;}\n",
       ".cython.score-11 {background-color: #FFFF79;}\n",
       ".cython.score-12 {background-color: #FFFF73;}\n",
       ".cython.score-13 {background-color: #FFFF6e;}\n",
       ".cython.score-14 {background-color: #FFFF6a;}\n",
       ".cython.score-15 {background-color: #FFFF66;}\n",
       ".cython.score-16 {background-color: #FFFF62;}\n",
       ".cython.score-17 {background-color: #FFFF5e;}\n",
       ".cython.score-18 {background-color: #FFFF5b;}\n",
       ".cython.score-19 {background-color: #FFFF57;}\n",
       ".cython.score-20 {background-color: #FFFF55;}\n",
       ".cython.score-21 {background-color: #FFFF52;}\n",
       ".cython.score-22 {background-color: #FFFF4f;}\n",
       ".cython.score-23 {background-color: #FFFF4d;}\n",
       ".cython.score-24 {background-color: #FFFF4b;}\n",
       ".cython.score-25 {background-color: #FFFF48;}\n",
       ".cython.score-26 {background-color: #FFFF46;}\n",
       ".cython.score-27 {background-color: #FFFF44;}\n",
       ".cython.score-28 {background-color: #FFFF43;}\n",
       ".cython.score-29 {background-color: #FFFF41;}\n",
       ".cython.score-30 {background-color: #FFFF3f;}\n",
       ".cython.score-31 {background-color: #FFFF3e;}\n",
       ".cython.score-32 {background-color: #FFFF3c;}\n",
       ".cython.score-33 {background-color: #FFFF3b;}\n",
       ".cython.score-34 {background-color: #FFFF39;}\n",
       ".cython.score-35 {background-color: #FFFF38;}\n",
       ".cython.score-36 {background-color: #FFFF37;}\n",
       ".cython.score-37 {background-color: #FFFF36;}\n",
       ".cython.score-38 {background-color: #FFFF35;}\n",
       ".cython.score-39 {background-color: #FFFF34;}\n",
       ".cython.score-40 {background-color: #FFFF33;}\n",
       ".cython.score-41 {background-color: #FFFF32;}\n",
       ".cython.score-42 {background-color: #FFFF31;}\n",
       ".cython.score-43 {background-color: #FFFF30;}\n",
       ".cython.score-44 {background-color: #FFFF2f;}\n",
       ".cython.score-45 {background-color: #FFFF2e;}\n",
       ".cython.score-46 {background-color: #FFFF2d;}\n",
       ".cython.score-47 {background-color: #FFFF2c;}\n",
       ".cython.score-48 {background-color: #FFFF2b;}\n",
       ".cython.score-49 {background-color: #FFFF2b;}\n",
       ".cython.score-50 {background-color: #FFFF2a;}\n",
       ".cython.score-51 {background-color: #FFFF29;}\n",
       ".cython.score-52 {background-color: #FFFF29;}\n",
       ".cython.score-53 {background-color: #FFFF28;}\n",
       ".cython.score-54 {background-color: #FFFF27;}\n",
       ".cython.score-55 {background-color: #FFFF27;}\n",
       ".cython.score-56 {background-color: #FFFF26;}\n",
       ".cython.score-57 {background-color: #FFFF26;}\n",
       ".cython.score-58 {background-color: #FFFF25;}\n",
       ".cython.score-59 {background-color: #FFFF24;}\n",
       ".cython.score-60 {background-color: #FFFF24;}\n",
       ".cython.score-61 {background-color: #FFFF23;}\n",
       ".cython.score-62 {background-color: #FFFF23;}\n",
       ".cython.score-63 {background-color: #FFFF22;}\n",
       ".cython.score-64 {background-color: #FFFF22;}\n",
       ".cython.score-65 {background-color: #FFFF22;}\n",
       ".cython.score-66 {background-color: #FFFF21;}\n",
       ".cython.score-67 {background-color: #FFFF21;}\n",
       ".cython.score-68 {background-color: #FFFF20;}\n",
       ".cython.score-69 {background-color: #FFFF20;}\n",
       ".cython.score-70 {background-color: #FFFF1f;}\n",
       ".cython.score-71 {background-color: #FFFF1f;}\n",
       ".cython.score-72 {background-color: #FFFF1f;}\n",
       ".cython.score-73 {background-color: #FFFF1e;}\n",
       ".cython.score-74 {background-color: #FFFF1e;}\n",
       ".cython.score-75 {background-color: #FFFF1e;}\n",
       ".cython.score-76 {background-color: #FFFF1d;}\n",
       ".cython.score-77 {background-color: #FFFF1d;}\n",
       ".cython.score-78 {background-color: #FFFF1c;}\n",
       ".cython.score-79 {background-color: #FFFF1c;}\n",
       ".cython.score-80 {background-color: #FFFF1c;}\n",
       ".cython.score-81 {background-color: #FFFF1c;}\n",
       ".cython.score-82 {background-color: #FFFF1b;}\n",
       ".cython.score-83 {background-color: #FFFF1b;}\n",
       ".cython.score-84 {background-color: #FFFF1b;}\n",
       ".cython.score-85 {background-color: #FFFF1a;}\n",
       ".cython.score-86 {background-color: #FFFF1a;}\n",
       ".cython.score-87 {background-color: #FFFF1a;}\n",
       ".cython.score-88 {background-color: #FFFF1a;}\n",
       ".cython.score-89 {background-color: #FFFF19;}\n",
       ".cython.score-90 {background-color: #FFFF19;}\n",
       ".cython.score-91 {background-color: #FFFF19;}\n",
       ".cython.score-92 {background-color: #FFFF19;}\n",
       ".cython.score-93 {background-color: #FFFF18;}\n",
       ".cython.score-94 {background-color: #FFFF18;}\n",
       ".cython.score-95 {background-color: #FFFF18;}\n",
       ".cython.score-96 {background-color: #FFFF18;}\n",
       ".cython.score-97 {background-color: #FFFF17;}\n",
       ".cython.score-98 {background-color: #FFFF17;}\n",
       ".cython.score-99 {background-color: #FFFF17;}\n",
       ".cython.score-100 {background-color: #FFFF17;}\n",
       ".cython.score-101 {background-color: #FFFF16;}\n",
       ".cython.score-102 {background-color: #FFFF16;}\n",
       ".cython.score-103 {background-color: #FFFF16;}\n",
       ".cython.score-104 {background-color: #FFFF16;}\n",
       ".cython.score-105 {background-color: #FFFF16;}\n",
       ".cython.score-106 {background-color: #FFFF15;}\n",
       ".cython.score-107 {background-color: #FFFF15;}\n",
       ".cython.score-108 {background-color: #FFFF15;}\n",
       ".cython.score-109 {background-color: #FFFF15;}\n",
       ".cython.score-110 {background-color: #FFFF15;}\n",
       ".cython.score-111 {background-color: #FFFF15;}\n",
       ".cython.score-112 {background-color: #FFFF14;}\n",
       ".cython.score-113 {background-color: #FFFF14;}\n",
       ".cython.score-114 {background-color: #FFFF14;}\n",
       ".cython.score-115 {background-color: #FFFF14;}\n",
       ".cython.score-116 {background-color: #FFFF14;}\n",
       ".cython.score-117 {background-color: #FFFF14;}\n",
       ".cython.score-118 {background-color: #FFFF13;}\n",
       ".cython.score-119 {background-color: #FFFF13;}\n",
       ".cython.score-120 {background-color: #FFFF13;}\n",
       ".cython.score-121 {background-color: #FFFF13;}\n",
       ".cython.score-122 {background-color: #FFFF13;}\n",
       ".cython.score-123 {background-color: #FFFF13;}\n",
       ".cython.score-124 {background-color: #FFFF13;}\n",
       ".cython.score-125 {background-color: #FFFF12;}\n",
       ".cython.score-126 {background-color: #FFFF12;}\n",
       ".cython.score-127 {background-color: #FFFF12;}\n",
       ".cython.score-128 {background-color: #FFFF12;}\n",
       ".cython.score-129 {background-color: #FFFF12;}\n",
       ".cython.score-130 {background-color: #FFFF12;}\n",
       ".cython.score-131 {background-color: #FFFF12;}\n",
       ".cython.score-132 {background-color: #FFFF11;}\n",
       ".cython.score-133 {background-color: #FFFF11;}\n",
       ".cython.score-134 {background-color: #FFFF11;}\n",
       ".cython.score-135 {background-color: #FFFF11;}\n",
       ".cython.score-136 {background-color: #FFFF11;}\n",
       ".cython.score-137 {background-color: #FFFF11;}\n",
       ".cython.score-138 {background-color: #FFFF11;}\n",
       ".cython.score-139 {background-color: #FFFF11;}\n",
       ".cython.score-140 {background-color: #FFFF11;}\n",
       ".cython.score-141 {background-color: #FFFF10;}\n",
       ".cython.score-142 {background-color: #FFFF10;}\n",
       ".cython.score-143 {background-color: #FFFF10;}\n",
       ".cython.score-144 {background-color: #FFFF10;}\n",
       ".cython.score-145 {background-color: #FFFF10;}\n",
       ".cython.score-146 {background-color: #FFFF10;}\n",
       ".cython.score-147 {background-color: #FFFF10;}\n",
       ".cython.score-148 {background-color: #FFFF10;}\n",
       ".cython.score-149 {background-color: #FFFF10;}\n",
       ".cython.score-150 {background-color: #FFFF0f;}\n",
       ".cython.score-151 {background-color: #FFFF0f;}\n",
       ".cython.score-152 {background-color: #FFFF0f;}\n",
       ".cython.score-153 {background-color: #FFFF0f;}\n",
       ".cython.score-154 {background-color: #FFFF0f;}\n",
       ".cython.score-155 {background-color: #FFFF0f;}\n",
       ".cython.score-156 {background-color: #FFFF0f;}\n",
       ".cython.score-157 {background-color: #FFFF0f;}\n",
       ".cython.score-158 {background-color: #FFFF0f;}\n",
       ".cython.score-159 {background-color: #FFFF0f;}\n",
       ".cython.score-160 {background-color: #FFFF0f;}\n",
       ".cython.score-161 {background-color: #FFFF0e;}\n",
       ".cython.score-162 {background-color: #FFFF0e;}\n",
       ".cython.score-163 {background-color: #FFFF0e;}\n",
       ".cython.score-164 {background-color: #FFFF0e;}\n",
       ".cython.score-165 {background-color: #FFFF0e;}\n",
       ".cython.score-166 {background-color: #FFFF0e;}\n",
       ".cython.score-167 {background-color: #FFFF0e;}\n",
       ".cython.score-168 {background-color: #FFFF0e;}\n",
       ".cython.score-169 {background-color: #FFFF0e;}\n",
       ".cython.score-170 {background-color: #FFFF0e;}\n",
       ".cython.score-171 {background-color: #FFFF0e;}\n",
       ".cython.score-172 {background-color: #FFFF0e;}\n",
       ".cython.score-173 {background-color: #FFFF0d;}\n",
       ".cython.score-174 {background-color: #FFFF0d;}\n",
       ".cython.score-175 {background-color: #FFFF0d;}\n",
       ".cython.score-176 {background-color: #FFFF0d;}\n",
       ".cython.score-177 {background-color: #FFFF0d;}\n",
       ".cython.score-178 {background-color: #FFFF0d;}\n",
       ".cython.score-179 {background-color: #FFFF0d;}\n",
       ".cython.score-180 {background-color: #FFFF0d;}\n",
       ".cython.score-181 {background-color: #FFFF0d;}\n",
       ".cython.score-182 {background-color: #FFFF0d;}\n",
       ".cython.score-183 {background-color: #FFFF0d;}\n",
       ".cython.score-184 {background-color: #FFFF0d;}\n",
       ".cython.score-185 {background-color: #FFFF0d;}\n",
       ".cython.score-186 {background-color: #FFFF0d;}\n",
       ".cython.score-187 {background-color: #FFFF0c;}\n",
       ".cython.score-188 {background-color: #FFFF0c;}\n",
       ".cython.score-189 {background-color: #FFFF0c;}\n",
       ".cython.score-190 {background-color: #FFFF0c;}\n",
       ".cython.score-191 {background-color: #FFFF0c;}\n",
       ".cython.score-192 {background-color: #FFFF0c;}\n",
       ".cython.score-193 {background-color: #FFFF0c;}\n",
       ".cython.score-194 {background-color: #FFFF0c;}\n",
       ".cython.score-195 {background-color: #FFFF0c;}\n",
       ".cython.score-196 {background-color: #FFFF0c;}\n",
       ".cython.score-197 {background-color: #FFFF0c;}\n",
       ".cython.score-198 {background-color: #FFFF0c;}\n",
       ".cython.score-199 {background-color: #FFFF0c;}\n",
       ".cython.score-200 {background-color: #FFFF0c;}\n",
       ".cython.score-201 {background-color: #FFFF0c;}\n",
       ".cython.score-202 {background-color: #FFFF0c;}\n",
       ".cython.score-203 {background-color: #FFFF0b;}\n",
       ".cython.score-204 {background-color: #FFFF0b;}\n",
       ".cython.score-205 {background-color: #FFFF0b;}\n",
       ".cython.score-206 {background-color: #FFFF0b;}\n",
       ".cython.score-207 {background-color: #FFFF0b;}\n",
       ".cython.score-208 {background-color: #FFFF0b;}\n",
       ".cython.score-209 {background-color: #FFFF0b;}\n",
       ".cython.score-210 {background-color: #FFFF0b;}\n",
       ".cython.score-211 {background-color: #FFFF0b;}\n",
       ".cython.score-212 {background-color: #FFFF0b;}\n",
       ".cython.score-213 {background-color: #FFFF0b;}\n",
       ".cython.score-214 {background-color: #FFFF0b;}\n",
       ".cython.score-215 {background-color: #FFFF0b;}\n",
       ".cython.score-216 {background-color: #FFFF0b;}\n",
       ".cython.score-217 {background-color: #FFFF0b;}\n",
       ".cython.score-218 {background-color: #FFFF0b;}\n",
       ".cython.score-219 {background-color: #FFFF0b;}\n",
       ".cython.score-220 {background-color: #FFFF0b;}\n",
       ".cython.score-221 {background-color: #FFFF0b;}\n",
       ".cython.score-222 {background-color: #FFFF0a;}\n",
       ".cython.score-223 {background-color: #FFFF0a;}\n",
       ".cython.score-224 {background-color: #FFFF0a;}\n",
       ".cython.score-225 {background-color: #FFFF0a;}\n",
       ".cython.score-226 {background-color: #FFFF0a;}\n",
       ".cython.score-227 {background-color: #FFFF0a;}\n",
       ".cython.score-228 {background-color: #FFFF0a;}\n",
       ".cython.score-229 {background-color: #FFFF0a;}\n",
       ".cython.score-230 {background-color: #FFFF0a;}\n",
       ".cython.score-231 {background-color: #FFFF0a;}\n",
       ".cython.score-232 {background-color: #FFFF0a;}\n",
       ".cython.score-233 {background-color: #FFFF0a;}\n",
       ".cython.score-234 {background-color: #FFFF0a;}\n",
       ".cython.score-235 {background-color: #FFFF0a;}\n",
       ".cython.score-236 {background-color: #FFFF0a;}\n",
       ".cython.score-237 {background-color: #FFFF0a;}\n",
       ".cython.score-238 {background-color: #FFFF0a;}\n",
       ".cython.score-239 {background-color: #FFFF0a;}\n",
       ".cython.score-240 {background-color: #FFFF0a;}\n",
       ".cython.score-241 {background-color: #FFFF0a;}\n",
       ".cython.score-242 {background-color: #FFFF0a;}\n",
       ".cython.score-243 {background-color: #FFFF0a;}\n",
       ".cython.score-244 {background-color: #FFFF0a;}\n",
       ".cython.score-245 {background-color: #FFFF0a;}\n",
       ".cython.score-246 {background-color: #FFFF09;}\n",
       ".cython.score-247 {background-color: #FFFF09;}\n",
       ".cython.score-248 {background-color: #FFFF09;}\n",
       ".cython.score-249 {background-color: #FFFF09;}\n",
       ".cython.score-250 {background-color: #FFFF09;}\n",
       ".cython.score-251 {background-color: #FFFF09;}\n",
       ".cython.score-252 {background-color: #FFFF09;}\n",
       ".cython.score-253 {background-color: #FFFF09;}\n",
       ".cython.score-254 {background-color: #FFFF09;}\n",
       "pre { line-height: 125%; }\n",
       "td.linenos .normal { color: inherit; background-color: transparent; padding-left: 5px; padding-right: 5px; }\n",
       "span.linenos { color: inherit; background-color: transparent; padding-left: 5px; padding-right: 5px; }\n",
       "td.linenos .special { color: #000000; background-color: #ffffc0; padding-left: 5px; padding-right: 5px; }\n",
       "span.linenos.special { color: #000000; background-color: #ffffc0; padding-left: 5px; padding-right: 5px; }\n",
       ".cython .hll { background-color: #ffffcc }\n",
       ".cython { background: #f8f8f8; }\n",
       ".cython .c { color: #3D7B7B; font-style: italic } /* Comment */\n",
       ".cython .err { border: 1px solid #FF0000 } /* Error */\n",
       ".cython .k { color: #008000; font-weight: bold } /* Keyword */\n",
       ".cython .o { color: #666666 } /* Operator */\n",
       ".cython .ch { color: #3D7B7B; font-style: italic } /* Comment.Hashbang */\n",
       ".cython .cm { color: #3D7B7B; font-style: italic } /* Comment.Multiline */\n",
       ".cython .cp { color: #9C6500 } /* Comment.Preproc */\n",
       ".cython .cpf { color: #3D7B7B; font-style: italic } /* Comment.PreprocFile */\n",
       ".cython .c1 { color: #3D7B7B; font-style: italic } /* Comment.Single */\n",
       ".cython .cs { color: #3D7B7B; font-style: italic } /* Comment.Special */\n",
       ".cython .gd { color: #A00000 } /* Generic.Deleted */\n",
       ".cython .ge { font-style: italic } /* Generic.Emph */\n",
       ".cython .gr { color: #E40000 } /* Generic.Error */\n",
       ".cython .gh { color: #000080; font-weight: bold } /* Generic.Heading */\n",
       ".cython .gi { color: #008400 } /* Generic.Inserted */\n",
       ".cython .go { color: #717171 } /* Generic.Output */\n",
       ".cython .gp { color: #000080; font-weight: bold } /* Generic.Prompt */\n",
       ".cython .gs { font-weight: bold } /* Generic.Strong */\n",
       ".cython .gu { color: #800080; font-weight: bold } /* Generic.Subheading */\n",
       ".cython .gt { color: #0044DD } /* Generic.Traceback */\n",
       ".cython .kc { color: #008000; font-weight: bold } /* Keyword.Constant */\n",
       ".cython .kd { color: #008000; font-weight: bold } /* Keyword.Declaration */\n",
       ".cython .kn { color: #008000; font-weight: bold } /* Keyword.Namespace */\n",
       ".cython .kp { color: #008000 } /* Keyword.Pseudo */\n",
       ".cython .kr { color: #008000; font-weight: bold } /* Keyword.Reserved */\n",
       ".cython .kt { color: #B00040 } /* Keyword.Type */\n",
       ".cython .m { color: #666666 } /* Literal.Number */\n",
       ".cython .s { color: #BA2121 } /* Literal.String */\n",
       ".cython .na { color: #687822 } /* Name.Attribute */\n",
       ".cython .nb { color: #008000 } /* Name.Builtin */\n",
       ".cython .nc { color: #0000FF; font-weight: bold } /* Name.Class */\n",
       ".cython .no { color: #880000 } /* Name.Constant */\n",
       ".cython .nd { color: #AA22FF } /* Name.Decorator */\n",
       ".cython .ni { color: #717171; font-weight: bold } /* Name.Entity */\n",
       ".cython .ne { color: #CB3F38; font-weight: bold } /* Name.Exception */\n",
       ".cython .nf { color: #0000FF } /* Name.Function */\n",
       ".cython .nl { color: #767600 } /* Name.Label */\n",
       ".cython .nn { color: #0000FF; font-weight: bold } /* Name.Namespace */\n",
       ".cython .nt { color: #008000; font-weight: bold } /* Name.Tag */\n",
       ".cython .nv { color: #19177C } /* Name.Variable */\n",
       ".cython .ow { color: #AA22FF; font-weight: bold } /* Operator.Word */\n",
       ".cython .w { color: #bbbbbb } /* Text.Whitespace */\n",
       ".cython .mb { color: #666666 } /* Literal.Number.Bin */\n",
       ".cython .mf { color: #666666 } /* Literal.Number.Float */\n",
       ".cython .mh { color: #666666 } /* Literal.Number.Hex */\n",
       ".cython .mi { color: #666666 } /* Literal.Number.Integer */\n",
       ".cython .mo { color: #666666 } /* Literal.Number.Oct */\n",
       ".cython .sa { color: #BA2121 } /* Literal.String.Affix */\n",
       ".cython .sb { color: #BA2121 } /* Literal.String.Backtick */\n",
       ".cython .sc { color: #BA2121 } /* Literal.String.Char */\n",
       ".cython .dl { color: #BA2121 } /* Literal.String.Delimiter */\n",
       ".cython .sd { color: #BA2121; font-style: italic } /* Literal.String.Doc */\n",
       ".cython .s2 { color: #BA2121 } /* Literal.String.Double */\n",
       ".cython .se { color: #AA5D1F; font-weight: bold } /* Literal.String.Escape */\n",
       ".cython .sh { color: #BA2121 } /* Literal.String.Heredoc */\n",
       ".cython .si { color: #A45A77; font-weight: bold } /* Literal.String.Interpol */\n",
       ".cython .sx { color: #008000 } /* Literal.String.Other */\n",
       ".cython .sr { color: #A45A77 } /* Literal.String.Regex */\n",
       ".cython .s1 { color: #BA2121 } /* Literal.String.Single */\n",
       ".cython .ss { color: #19177C } /* Literal.String.Symbol */\n",
       ".cython .bp { color: #008000 } /* Name.Builtin.Pseudo */\n",
       ".cython .fm { color: #0000FF } /* Name.Function.Magic */\n",
       ".cython .vc { color: #19177C } /* Name.Variable.Class */\n",
       ".cython .vg { color: #19177C } /* Name.Variable.Global */\n",
       ".cython .vi { color: #19177C } /* Name.Variable.Instance */\n",
       ".cython .vm { color: #19177C } /* Name.Variable.Magic */\n",
       ".cython .il { color: #666666 } /* Literal.Number.Integer.Long */\n",
       "    </style>\n",
       "</head>\n",
       "<body class=\"cython\">\n",
       "<p><span style=\"border-bottom: solid 1px grey;\">Generated by Cython 0.29.33</span></p>\n",
       "<p>\n",
       "    <span style=\"background-color: #FFFF00\">Yellow lines</span> hint at Python interaction.<br />\n",
       "    Click on a line that starts with a \"<code>+</code>\" to see the C code that Cython generated for it.\n",
       "</p>\n",
       "<div class=\"cython\"><pre class=\"cython line score-0\">&#xA0;<span class=\"\">01</span>: </pre>\n",
       "<pre class=\"cython line score-16\" onclick=\"(function(s){s.display=s.display==='block'?'none':'block'})(this.nextElementSibling.style)\">+<span class=\"\">02</span>: <span class=\"k\">import</span> <span class=\"nn\">numpy.typing</span> <span class=\"k\">as</span> <span class=\"nn\">npt</span></pre>\n",
       "<pre class='cython code score-16 '>  __pyx_t_1 = <span class='py_c_api'>PyList_New</span>(1);<span class='error_goto'> if (unlikely(!__pyx_t_1)) __PYX_ERR(0, 2, __pyx_L1_error)</span>\n",
       "  <span class='refnanny'>__Pyx_GOTREF</span>(__pyx_t_1);\n",
       "  <span class='pyx_macro_api'>__Pyx_INCREF</span>(__pyx_n_s_);\n",
       "  <span class='refnanny'>__Pyx_GIVEREF</span>(__pyx_n_s_);\n",
       "  <span class='py_macro_api'>PyList_SET_ITEM</span>(__pyx_t_1, 0, __pyx_n_s_);\n",
       "  __pyx_t_2 = <span class='pyx_c_api'>__Pyx_Import</span>(__pyx_n_s_numpy_typing, __pyx_t_1, 0);<span class='error_goto'> if (unlikely(!__pyx_t_2)) __PYX_ERR(0, 2, __pyx_L1_error)</span>\n",
       "  <span class='refnanny'>__Pyx_GOTREF</span>(__pyx_t_2);\n",
       "  <span class='pyx_macro_api'>__Pyx_DECREF</span>(__pyx_t_1); __pyx_t_1 = 0;\n",
       "  if (<span class='py_c_api'>PyDict_SetItem</span>(__pyx_d, __pyx_n_s_npt, __pyx_t_2) &lt; 0) <span class='error_goto'>__PYX_ERR(0, 2, __pyx_L1_error)</span>\n",
       "  <span class='pyx_macro_api'>__Pyx_DECREF</span>(__pyx_t_2); __pyx_t_2 = 0;\n",
       "</pre><pre class=\"cython line score-8\" onclick=\"(function(s){s.display=s.display==='block'?'none':'block'})(this.nextElementSibling.style)\">+<span class=\"\">03</span>: <span class=\"k\">import</span> <span class=\"nn\">numpy</span> <span class=\"k\">as</span> <span class=\"nn\">np</span></pre>\n",
       "<pre class='cython code score-8 '>  __pyx_t_2 = <span class='pyx_c_api'>__Pyx_Import</span>(__pyx_n_s_numpy, 0, 0);<span class='error_goto'> if (unlikely(!__pyx_t_2)) __PYX_ERR(0, 3, __pyx_L1_error)</span>\n",
       "  <span class='refnanny'>__Pyx_GOTREF</span>(__pyx_t_2);\n",
       "  if (<span class='py_c_api'>PyDict_SetItem</span>(__pyx_d, __pyx_n_s_np, __pyx_t_2) &lt; 0) <span class='error_goto'>__PYX_ERR(0, 3, __pyx_L1_error)</span>\n",
       "  <span class='pyx_macro_api'>__Pyx_DECREF</span>(__pyx_t_2); __pyx_t_2 = 0;\n",
       "</pre><pre class=\"cython line score-0\">&#xA0;<span class=\"\">04</span>: </pre>\n",
       "<pre class=\"cython line score-0\">&#xA0;<span class=\"\">05</span>: </pre>\n",
       "<pre class=\"cython line score-23\" onclick=\"(function(s){s.display=s.display==='block'?'none':'block'})(this.nextElementSibling.style)\">+<span class=\"\">06</span>: <span class=\"k\">def</span> <span class=\"nf\">cython_strange_conv</span><span class=\"p\">(</span><span class=\"n\">a</span><span class=\"p\">:</span> <span class=\"n\">npt</span><span class=\"o\">.</span><span class=\"n\">NDArray</span><span class=\"p\">[</span><span class=\"n\">np</span><span class=\"o\">.</span><span class=\"n\">float64</span><span class=\"p\">])</span> <span class=\"o\">-&gt;</span> <span class=\"n\">np</span><span class=\"o\">.</span><span class=\"n\">float64</span><span class=\"p\">:</span></pre>\n",
       "<pre class='cython code score-23 '>/* Python wrapper */\n",
       "static PyObject *__pyx_pw_46_cython_magic_476658cbb193820fd439e20aca842ed2_1cython_strange_conv(PyObject *__pyx_self, PyObject *__pyx_v_a); /*proto*/\n",
       "static PyMethodDef __pyx_mdef_46_cython_magic_476658cbb193820fd439e20aca842ed2_1cython_strange_conv = {\"cython_strange_conv\", (PyCFunction)__pyx_pw_46_cython_magic_476658cbb193820fd439e20aca842ed2_1cython_strange_conv, METH_O, 0};\n",
       "static PyObject *__pyx_pw_46_cython_magic_476658cbb193820fd439e20aca842ed2_1cython_strange_conv(PyObject *__pyx_self, PyObject *__pyx_v_a) {\n",
       "  PyObject *__pyx_r = 0;\n",
       "  <span class='refnanny'>__Pyx_RefNannyDeclarations</span>\n",
       "  <span class='refnanny'>__Pyx_RefNannySetupContext</span>(\"cython_strange_conv (wrapper)\", 0);\n",
       "  __pyx_r = __pyx_pf_46_cython_magic_476658cbb193820fd439e20aca842ed2_cython_strange_conv(__pyx_self, ((PyObject *)__pyx_v_a));\n",
       "\n",
       "  /* function exit code */\n",
       "  <span class='refnanny'>__Pyx_RefNannyFinishContext</span>();\n",
       "  return __pyx_r;\n",
       "}\n",
       "\n",
       "static PyObject *__pyx_pf_46_cython_magic_476658cbb193820fd439e20aca842ed2_cython_strange_conv(CYTHON_UNUSED PyObject *__pyx_self, PyObject *__pyx_v_a) {\n",
       "  PyObject *__pyx_v_x = NULL;\n",
       "  PyObject *__pyx_v_y = NULL;\n",
       "  PyObject *__pyx_v_t = NULL;\n",
       "  PyObject *__pyx_v_c = NULL;\n",
       "  PyObject *__pyx_r = NULL;\n",
       "  <span class='refnanny'>__Pyx_RefNannyDeclarations</span>\n",
       "  <span class='refnanny'>__Pyx_RefNannySetupContext</span>(\"cython_strange_conv\", 0);\n",
       "/* … */\n",
       "  /* function exit code */\n",
       "  __pyx_L1_error:;\n",
       "  <span class='pyx_macro_api'>__Pyx_XDECREF</span>(__pyx_t_1);\n",
       "  <span class='pyx_macro_api'>__Pyx_XDECREF</span>(__pyx_t_2);\n",
       "  <span class='pyx_macro_api'>__Pyx_XDECREF</span>(__pyx_t_5);\n",
       "  <span class='pyx_macro_api'>__Pyx_XDECREF</span>(__pyx_t_8);\n",
       "  <span class='pyx_macro_api'>__Pyx_XDECREF</span>(__pyx_t_9);\n",
       "  <span class='pyx_macro_api'>__Pyx_XDECREF</span>(__pyx_t_10);\n",
       "  <span class='pyx_c_api'>__Pyx_AddTraceback</span>(\"_cython_magic_476658cbb193820fd439e20aca842ed2.cython_strange_conv\", __pyx_clineno, __pyx_lineno, __pyx_filename);\n",
       "  __pyx_r = NULL;\n",
       "  __pyx_L0:;\n",
       "  <span class='pyx_macro_api'>__Pyx_XDECREF</span>(__pyx_v_x);\n",
       "  <span class='pyx_macro_api'>__Pyx_XDECREF</span>(__pyx_v_y);\n",
       "  <span class='pyx_macro_api'>__Pyx_XDECREF</span>(__pyx_v_t);\n",
       "  <span class='pyx_macro_api'>__Pyx_XDECREF</span>(__pyx_v_c);\n",
       "  <span class='refnanny'>__Pyx_XGIVEREF</span>(__pyx_r);\n",
       "  <span class='refnanny'>__Pyx_RefNannyFinishContext</span>();\n",
       "  return __pyx_r;\n",
       "}\n",
       "/* … */\n",
       "  __pyx_tuple__2 = <span class='py_c_api'>PyTuple_Pack</span>(5, __pyx_n_s_a, __pyx_n_s_x, __pyx_n_s_y, __pyx_n_s_t, __pyx_n_s_c);<span class='error_goto'> if (unlikely(!__pyx_tuple__2)) __PYX_ERR(0, 6, __pyx_L1_error)</span>\n",
       "  <span class='refnanny'>__Pyx_GOTREF</span>(__pyx_tuple__2);\n",
       "  <span class='refnanny'>__Pyx_GIVEREF</span>(__pyx_tuple__2);\n",
       "/* … */\n",
       "  __pyx_t_2 = PyCFunction_NewEx(&amp;__pyx_mdef_46_cython_magic_476658cbb193820fd439e20aca842ed2_1cython_strange_conv, NULL, __pyx_n_s_cython_magic_476658cbb193820fd4);<span class='error_goto'> if (unlikely(!__pyx_t_2)) __PYX_ERR(0, 6, __pyx_L1_error)</span>\n",
       "  <span class='refnanny'>__Pyx_GOTREF</span>(__pyx_t_2);\n",
       "  if (<span class='py_c_api'>PyDict_SetItem</span>(__pyx_d, __pyx_n_s_cython_strange_conv, __pyx_t_2) &lt; 0) <span class='error_goto'>__PYX_ERR(0, 6, __pyx_L1_error)</span>\n",
       "  <span class='pyx_macro_api'>__Pyx_DECREF</span>(__pyx_t_2); __pyx_t_2 = 0;\n",
       "</pre><pre class=\"cython line score-5\" onclick=\"(function(s){s.display=s.display==='block'?'none':'block'})(this.nextElementSibling.style)\">+<span class=\"\">07</span>:     <span class=\"n\">x</span> <span class=\"o\">=</span> <span class=\"n\">a</span><span class=\"o\">.</span><span class=\"n\">shape</span><span class=\"p\">[</span><span class=\"mf\">0</span><span class=\"p\">]</span></pre>\n",
       "<pre class='cython code score-5 '>  __pyx_t_1 = <span class='pyx_c_api'>__Pyx_PyObject_GetAttrStr</span>(__pyx_v_a, __pyx_n_s_shape);<span class='error_goto'> if (unlikely(!__pyx_t_1)) __PYX_ERR(0, 7, __pyx_L1_error)</span>\n",
       "  <span class='refnanny'>__Pyx_GOTREF</span>(__pyx_t_1);\n",
       "  __pyx_t_2 = <span class='pyx_c_api'>__Pyx_GetItemInt</span>(__pyx_t_1, 0, long, 1, __Pyx_PyInt_From_long, 0, 0, 1);<span class='error_goto'> if (unlikely(!__pyx_t_2)) __PYX_ERR(0, 7, __pyx_L1_error)</span>\n",
       "  <span class='refnanny'>__Pyx_GOTREF</span>(__pyx_t_2);\n",
       "  <span class='pyx_macro_api'>__Pyx_DECREF</span>(__pyx_t_1); __pyx_t_1 = 0;\n",
       "  __pyx_v_x = __pyx_t_2;\n",
       "  __pyx_t_2 = 0;\n",
       "</pre><pre class=\"cython line score-5\" onclick=\"(function(s){s.display=s.display==='block'?'none':'block'})(this.nextElementSibling.style)\">+<span class=\"\">08</span>:     <span class=\"n\">y</span> <span class=\"o\">=</span> <span class=\"n\">a</span><span class=\"o\">.</span><span class=\"n\">shape</span><span class=\"p\">[</span><span class=\"mf\">1</span><span class=\"p\">]</span></pre>\n",
       "<pre class='cython code score-5 '>  __pyx_t_2 = <span class='pyx_c_api'>__Pyx_PyObject_GetAttrStr</span>(__pyx_v_a, __pyx_n_s_shape);<span class='error_goto'> if (unlikely(!__pyx_t_2)) __PYX_ERR(0, 8, __pyx_L1_error)</span>\n",
       "  <span class='refnanny'>__Pyx_GOTREF</span>(__pyx_t_2);\n",
       "  __pyx_t_1 = <span class='pyx_c_api'>__Pyx_GetItemInt</span>(__pyx_t_2, 1, long, 1, __Pyx_PyInt_From_long, 0, 0, 1);<span class='error_goto'> if (unlikely(!__pyx_t_1)) __PYX_ERR(0, 8, __pyx_L1_error)</span>\n",
       "  <span class='refnanny'>__Pyx_GOTREF</span>(__pyx_t_1);\n",
       "  <span class='pyx_macro_api'>__Pyx_DECREF</span>(__pyx_t_2); __pyx_t_2 = 0;\n",
       "  __pyx_v_y = __pyx_t_1;\n",
       "  __pyx_t_1 = 0;\n",
       "</pre><pre class=\"cython line score-0\">&#xA0;<span class=\"\">09</span>: </pre>\n",
       "<pre class=\"cython line score-1\" onclick=\"(function(s){s.display=s.display==='block'?'none':'block'})(this.nextElementSibling.style)\">+<span class=\"\">10</span>:     <span class=\"n\">t</span> <span class=\"o\">=</span> <span class=\"mf\">1.0</span></pre>\n",
       "<pre class='cython code score-1 '>  <span class='pyx_macro_api'>__Pyx_INCREF</span>(__pyx_float_1_0);\n",
       "  __pyx_v_t = __pyx_float_1_0;\n",
       "</pre><pre class=\"cython line score-49\" onclick=\"(function(s){s.display=s.display==='block'?'none':'block'})(this.nextElementSibling.style)\">+<span class=\"\">11</span>:     <span class=\"k\">for</span> <span class=\"n\">y</span> <span class=\"ow\">in</span> <span class=\"nb\">range</span><span class=\"p\">(</span><span class=\"n\">y</span> <span class=\"o\">-</span> <span class=\"mf\">5</span><span class=\"p\">):</span></pre>\n",
       "<pre class='cython code score-49 '>  __pyx_t_1 = <span class='pyx_c_api'>__Pyx_PyInt_SubtractObjC</span>(__pyx_v_y, __pyx_int_5, 5, 0, 0);<span class='error_goto'> if (unlikely(!__pyx_t_1)) __PYX_ERR(0, 11, __pyx_L1_error)</span>\n",
       "  <span class='refnanny'>__Pyx_GOTREF</span>(__pyx_t_1);\n",
       "  __pyx_t_2 = <span class='pyx_c_api'>__Pyx_PyObject_CallOneArg</span>(__pyx_builtin_range, __pyx_t_1);<span class='error_goto'> if (unlikely(!__pyx_t_2)) __PYX_ERR(0, 11, __pyx_L1_error)</span>\n",
       "  <span class='refnanny'>__Pyx_GOTREF</span>(__pyx_t_2);\n",
       "  <span class='pyx_macro_api'>__Pyx_DECREF</span>(__pyx_t_1); __pyx_t_1 = 0;\n",
       "  if (likely(<span class='py_c_api'>PyList_CheckExact</span>(__pyx_t_2)) || <span class='py_c_api'>PyTuple_CheckExact</span>(__pyx_t_2)) {\n",
       "    __pyx_t_1 = __pyx_t_2; <span class='pyx_macro_api'>__Pyx_INCREF</span>(__pyx_t_1); __pyx_t_3 = 0;\n",
       "    __pyx_t_4 = NULL;\n",
       "  } else {\n",
       "    __pyx_t_3 = -1; __pyx_t_1 = <span class='py_c_api'>PyObject_GetIter</span>(__pyx_t_2);<span class='error_goto'> if (unlikely(!__pyx_t_1)) __PYX_ERR(0, 11, __pyx_L1_error)</span>\n",
       "    <span class='refnanny'>__Pyx_GOTREF</span>(__pyx_t_1);\n",
       "    __pyx_t_4 = Py_TYPE(__pyx_t_1)-&gt;tp_iternext;<span class='error_goto'> if (unlikely(!__pyx_t_4)) __PYX_ERR(0, 11, __pyx_L1_error)</span>\n",
       "  }\n",
       "  <span class='pyx_macro_api'>__Pyx_DECREF</span>(__pyx_t_2); __pyx_t_2 = 0;\n",
       "  for (;;) {\n",
       "    if (likely(!__pyx_t_4)) {\n",
       "      if (likely(<span class='py_c_api'>PyList_CheckExact</span>(__pyx_t_1))) {\n",
       "        if (__pyx_t_3 &gt;= <span class='py_macro_api'>PyList_GET_SIZE</span>(__pyx_t_1)) break;\n",
       "        #if CYTHON_ASSUME_SAFE_MACROS &amp;&amp; !CYTHON_AVOID_BORROWED_REFS\n",
       "        __pyx_t_2 = <span class='py_macro_api'>PyList_GET_ITEM</span>(__pyx_t_1, __pyx_t_3); <span class='pyx_macro_api'>__Pyx_INCREF</span>(__pyx_t_2); __pyx_t_3++; if (unlikely(0 &lt; 0)) <span class='error_goto'>__PYX_ERR(0, 11, __pyx_L1_error)</span>\n",
       "        #else\n",
       "        __pyx_t_2 = <span class='py_macro_api'>PySequence_ITEM</span>(__pyx_t_1, __pyx_t_3); __pyx_t_3++;<span class='error_goto'> if (unlikely(!__pyx_t_2)) __PYX_ERR(0, 11, __pyx_L1_error)</span>\n",
       "        <span class='refnanny'>__Pyx_GOTREF</span>(__pyx_t_2);\n",
       "        #endif\n",
       "      } else {\n",
       "        if (__pyx_t_3 &gt;= <span class='py_macro_api'>PyTuple_GET_SIZE</span>(__pyx_t_1)) break;\n",
       "        #if CYTHON_ASSUME_SAFE_MACROS &amp;&amp; !CYTHON_AVOID_BORROWED_REFS\n",
       "        __pyx_t_2 = <span class='py_macro_api'>PyTuple_GET_ITEM</span>(__pyx_t_1, __pyx_t_3); <span class='pyx_macro_api'>__Pyx_INCREF</span>(__pyx_t_2); __pyx_t_3++; if (unlikely(0 &lt; 0)) <span class='error_goto'>__PYX_ERR(0, 11, __pyx_L1_error)</span>\n",
       "        #else\n",
       "        __pyx_t_2 = <span class='py_macro_api'>PySequence_ITEM</span>(__pyx_t_1, __pyx_t_3); __pyx_t_3++;<span class='error_goto'> if (unlikely(!__pyx_t_2)) __PYX_ERR(0, 11, __pyx_L1_error)</span>\n",
       "        <span class='refnanny'>__Pyx_GOTREF</span>(__pyx_t_2);\n",
       "        #endif\n",
       "      }\n",
       "    } else {\n",
       "      __pyx_t_2 = __pyx_t_4(__pyx_t_1);\n",
       "      if (unlikely(!__pyx_t_2)) {\n",
       "        PyObject* exc_type = <span class='py_c_api'>PyErr_Occurred</span>();\n",
       "        if (exc_type) {\n",
       "          if (likely(<span class='pyx_c_api'>__Pyx_PyErr_GivenExceptionMatches</span>(exc_type, PyExc_StopIteration))) <span class='py_c_api'>PyErr_Clear</span>();\n",
       "          else <span class='error_goto'>__PYX_ERR(0, 11, __pyx_L1_error)</span>\n",
       "        }\n",
       "        break;\n",
       "      }\n",
       "      <span class='refnanny'>__Pyx_GOTREF</span>(__pyx_t_2);\n",
       "    }\n",
       "    <span class='pyx_macro_api'>__Pyx_DECREF_SET</span>(__pyx_v_y, __pyx_t_2);\n",
       "    __pyx_t_2 = 0;\n",
       "/* … */\n",
       "  }\n",
       "  <span class='pyx_macro_api'>__Pyx_DECREF</span>(__pyx_t_1); __pyx_t_1 = 0;\n",
       "</pre><pre class=\"cython line score-49\" onclick=\"(function(s){s.display=s.display==='block'?'none':'block'})(this.nextElementSibling.style)\">+<span class=\"\">12</span>:         <span class=\"k\">for</span> <span class=\"n\">x</span> <span class=\"ow\">in</span> <span class=\"nb\">range</span><span class=\"p\">(</span><span class=\"n\">x</span> <span class=\"o\">-</span> <span class=\"mf\">3</span><span class=\"p\">):</span></pre>\n",
       "<pre class='cython code score-49 '>    __pyx_t_2 = <span class='pyx_c_api'>__Pyx_PyInt_SubtractObjC</span>(__pyx_v_x, __pyx_int_3, 3, 0, 0);<span class='error_goto'> if (unlikely(!__pyx_t_2)) __PYX_ERR(0, 12, __pyx_L1_error)</span>\n",
       "    <span class='refnanny'>__Pyx_GOTREF</span>(__pyx_t_2);\n",
       "    __pyx_t_5 = <span class='pyx_c_api'>__Pyx_PyObject_CallOneArg</span>(__pyx_builtin_range, __pyx_t_2);<span class='error_goto'> if (unlikely(!__pyx_t_5)) __PYX_ERR(0, 12, __pyx_L1_error)</span>\n",
       "    <span class='refnanny'>__Pyx_GOTREF</span>(__pyx_t_5);\n",
       "    <span class='pyx_macro_api'>__Pyx_DECREF</span>(__pyx_t_2); __pyx_t_2 = 0;\n",
       "    if (likely(<span class='py_c_api'>PyList_CheckExact</span>(__pyx_t_5)) || <span class='py_c_api'>PyTuple_CheckExact</span>(__pyx_t_5)) {\n",
       "      __pyx_t_2 = __pyx_t_5; <span class='pyx_macro_api'>__Pyx_INCREF</span>(__pyx_t_2); __pyx_t_6 = 0;\n",
       "      __pyx_t_7 = NULL;\n",
       "    } else {\n",
       "      __pyx_t_6 = -1; __pyx_t_2 = <span class='py_c_api'>PyObject_GetIter</span>(__pyx_t_5);<span class='error_goto'> if (unlikely(!__pyx_t_2)) __PYX_ERR(0, 12, __pyx_L1_error)</span>\n",
       "      <span class='refnanny'>__Pyx_GOTREF</span>(__pyx_t_2);\n",
       "      __pyx_t_7 = Py_TYPE(__pyx_t_2)-&gt;tp_iternext;<span class='error_goto'> if (unlikely(!__pyx_t_7)) __PYX_ERR(0, 12, __pyx_L1_error)</span>\n",
       "    }\n",
       "    <span class='pyx_macro_api'>__Pyx_DECREF</span>(__pyx_t_5); __pyx_t_5 = 0;\n",
       "    for (;;) {\n",
       "      if (likely(!__pyx_t_7)) {\n",
       "        if (likely(<span class='py_c_api'>PyList_CheckExact</span>(__pyx_t_2))) {\n",
       "          if (__pyx_t_6 &gt;= <span class='py_macro_api'>PyList_GET_SIZE</span>(__pyx_t_2)) break;\n",
       "          #if CYTHON_ASSUME_SAFE_MACROS &amp;&amp; !CYTHON_AVOID_BORROWED_REFS\n",
       "          __pyx_t_5 = <span class='py_macro_api'>PyList_GET_ITEM</span>(__pyx_t_2, __pyx_t_6); <span class='pyx_macro_api'>__Pyx_INCREF</span>(__pyx_t_5); __pyx_t_6++; if (unlikely(0 &lt; 0)) <span class='error_goto'>__PYX_ERR(0, 12, __pyx_L1_error)</span>\n",
       "          #else\n",
       "          __pyx_t_5 = <span class='py_macro_api'>PySequence_ITEM</span>(__pyx_t_2, __pyx_t_6); __pyx_t_6++;<span class='error_goto'> if (unlikely(!__pyx_t_5)) __PYX_ERR(0, 12, __pyx_L1_error)</span>\n",
       "          <span class='refnanny'>__Pyx_GOTREF</span>(__pyx_t_5);\n",
       "          #endif\n",
       "        } else {\n",
       "          if (__pyx_t_6 &gt;= <span class='py_macro_api'>PyTuple_GET_SIZE</span>(__pyx_t_2)) break;\n",
       "          #if CYTHON_ASSUME_SAFE_MACROS &amp;&amp; !CYTHON_AVOID_BORROWED_REFS\n",
       "          __pyx_t_5 = <span class='py_macro_api'>PyTuple_GET_ITEM</span>(__pyx_t_2, __pyx_t_6); <span class='pyx_macro_api'>__Pyx_INCREF</span>(__pyx_t_5); __pyx_t_6++; if (unlikely(0 &lt; 0)) <span class='error_goto'>__PYX_ERR(0, 12, __pyx_L1_error)</span>\n",
       "          #else\n",
       "          __pyx_t_5 = <span class='py_macro_api'>PySequence_ITEM</span>(__pyx_t_2, __pyx_t_6); __pyx_t_6++;<span class='error_goto'> if (unlikely(!__pyx_t_5)) __PYX_ERR(0, 12, __pyx_L1_error)</span>\n",
       "          <span class='refnanny'>__Pyx_GOTREF</span>(__pyx_t_5);\n",
       "          #endif\n",
       "        }\n",
       "      } else {\n",
       "        __pyx_t_5 = __pyx_t_7(__pyx_t_2);\n",
       "        if (unlikely(!__pyx_t_5)) {\n",
       "          PyObject* exc_type = <span class='py_c_api'>PyErr_Occurred</span>();\n",
       "          if (exc_type) {\n",
       "            if (likely(<span class='pyx_c_api'>__Pyx_PyErr_GivenExceptionMatches</span>(exc_type, PyExc_StopIteration))) <span class='py_c_api'>PyErr_Clear</span>();\n",
       "            else <span class='error_goto'>__PYX_ERR(0, 12, __pyx_L1_error)</span>\n",
       "          }\n",
       "          break;\n",
       "        }\n",
       "        <span class='refnanny'>__Pyx_GOTREF</span>(__pyx_t_5);\n",
       "      }\n",
       "      <span class='pyx_macro_api'>__Pyx_DECREF_SET</span>(__pyx_v_x, __pyx_t_5);\n",
       "      __pyx_t_5 = 0;\n",
       "/* … */\n",
       "    }\n",
       "    <span class='pyx_macro_api'>__Pyx_DECREF</span>(__pyx_t_2); __pyx_t_2 = 0;\n",
       "</pre><pre class=\"cython line score-87\" onclick=\"(function(s){s.display=s.display==='block'?'none':'block'})(this.nextElementSibling.style)\">+<span class=\"\">13</span>:             <span class=\"n\">c</span> <span class=\"o\">=</span> <span class=\"mf\">1.5</span> <span class=\"o\">*</span> <span class=\"n\">a</span><span class=\"p\">[</span><span class=\"n\">y</span> <span class=\"o\">+</span> <span class=\"mf\">1</span><span class=\"p\">,</span> <span class=\"n\">x</span> <span class=\"o\">+</span> <span class=\"mf\">2</span><span class=\"p\">]</span> <span class=\"o\">-</span> <span class=\"n\">a</span><span class=\"p\">[</span><span class=\"n\">y</span> <span class=\"o\">+</span> <span class=\"mf\">5</span><span class=\"p\">,</span> <span class=\"n\">x</span> <span class=\"o\">+</span> <span class=\"mf\">3</span><span class=\"p\">]</span> <span class=\"o\">*</span> <span class=\"n\">a</span><span class=\"p\">[</span><span class=\"n\">y</span><span class=\"p\">,</span> <span class=\"n\">x</span><span class=\"p\">]</span> <span class=\"o\">+</span> <span class=\"mf\">0.2</span> <span class=\"o\">*</span> <span class=\"n\">a</span><span class=\"p\">[</span><span class=\"n\">y</span> <span class=\"o\">+</span> <span class=\"mf\">4</span><span class=\"p\">,</span> <span class=\"n\">x</span><span class=\"p\">]</span></pre>\n",
       "<pre class='cython code score-87 '>      __pyx_t_5 = <span class='pyx_c_api'>__Pyx_PyInt_AddObjC</span>(__pyx_v_y, __pyx_int_1, 1, 0, 0);<span class='error_goto'> if (unlikely(!__pyx_t_5)) __PYX_ERR(0, 13, __pyx_L1_error)</span>\n",
       "      <span class='refnanny'>__Pyx_GOTREF</span>(__pyx_t_5);\n",
       "      __pyx_t_8 = <span class='pyx_c_api'>__Pyx_PyInt_AddObjC</span>(__pyx_v_x, __pyx_int_2, 2, 0, 0);<span class='error_goto'> if (unlikely(!__pyx_t_8)) __PYX_ERR(0, 13, __pyx_L1_error)</span>\n",
       "      <span class='refnanny'>__Pyx_GOTREF</span>(__pyx_t_8);\n",
       "      __pyx_t_9 = <span class='py_c_api'>PyTuple_New</span>(2);<span class='error_goto'> if (unlikely(!__pyx_t_9)) __PYX_ERR(0, 13, __pyx_L1_error)</span>\n",
       "      <span class='refnanny'>__Pyx_GOTREF</span>(__pyx_t_9);\n",
       "      <span class='refnanny'>__Pyx_GIVEREF</span>(__pyx_t_5);\n",
       "      <span class='py_macro_api'>PyTuple_SET_ITEM</span>(__pyx_t_9, 0, __pyx_t_5);\n",
       "      <span class='refnanny'>__Pyx_GIVEREF</span>(__pyx_t_8);\n",
       "      <span class='py_macro_api'>PyTuple_SET_ITEM</span>(__pyx_t_9, 1, __pyx_t_8);\n",
       "      __pyx_t_5 = 0;\n",
       "      __pyx_t_8 = 0;\n",
       "      __pyx_t_8 = <span class='pyx_c_api'>__Pyx_PyObject_GetItem</span>(__pyx_v_a, __pyx_t_9);<span class='error_goto'> if (unlikely(!__pyx_t_8)) __PYX_ERR(0, 13, __pyx_L1_error)</span>\n",
       "      <span class='refnanny'>__Pyx_GOTREF</span>(__pyx_t_8);\n",
       "      <span class='pyx_macro_api'>__Pyx_DECREF</span>(__pyx_t_9); __pyx_t_9 = 0;\n",
       "      __pyx_t_9 = <span class='py_c_api'>PyNumber_Multiply</span>(__pyx_float_1_5, __pyx_t_8);<span class='error_goto'> if (unlikely(!__pyx_t_9)) __PYX_ERR(0, 13, __pyx_L1_error)</span>\n",
       "      <span class='refnanny'>__Pyx_GOTREF</span>(__pyx_t_9);\n",
       "      <span class='pyx_macro_api'>__Pyx_DECREF</span>(__pyx_t_8); __pyx_t_8 = 0;\n",
       "      __pyx_t_8 = <span class='pyx_c_api'>__Pyx_PyInt_AddObjC</span>(__pyx_v_y, __pyx_int_5, 5, 0, 0);<span class='error_goto'> if (unlikely(!__pyx_t_8)) __PYX_ERR(0, 13, __pyx_L1_error)</span>\n",
       "      <span class='refnanny'>__Pyx_GOTREF</span>(__pyx_t_8);\n",
       "      __pyx_t_5 = <span class='pyx_c_api'>__Pyx_PyInt_AddObjC</span>(__pyx_v_x, __pyx_int_3, 3, 0, 0);<span class='error_goto'> if (unlikely(!__pyx_t_5)) __PYX_ERR(0, 13, __pyx_L1_error)</span>\n",
       "      <span class='refnanny'>__Pyx_GOTREF</span>(__pyx_t_5);\n",
       "      __pyx_t_10 = <span class='py_c_api'>PyTuple_New</span>(2);<span class='error_goto'> if (unlikely(!__pyx_t_10)) __PYX_ERR(0, 13, __pyx_L1_error)</span>\n",
       "      <span class='refnanny'>__Pyx_GOTREF</span>(__pyx_t_10);\n",
       "      <span class='refnanny'>__Pyx_GIVEREF</span>(__pyx_t_8);\n",
       "      <span class='py_macro_api'>PyTuple_SET_ITEM</span>(__pyx_t_10, 0, __pyx_t_8);\n",
       "      <span class='refnanny'>__Pyx_GIVEREF</span>(__pyx_t_5);\n",
       "      <span class='py_macro_api'>PyTuple_SET_ITEM</span>(__pyx_t_10, 1, __pyx_t_5);\n",
       "      __pyx_t_8 = 0;\n",
       "      __pyx_t_5 = 0;\n",
       "      __pyx_t_5 = <span class='pyx_c_api'>__Pyx_PyObject_GetItem</span>(__pyx_v_a, __pyx_t_10);<span class='error_goto'> if (unlikely(!__pyx_t_5)) __PYX_ERR(0, 13, __pyx_L1_error)</span>\n",
       "      <span class='refnanny'>__Pyx_GOTREF</span>(__pyx_t_5);\n",
       "      <span class='pyx_macro_api'>__Pyx_DECREF</span>(__pyx_t_10); __pyx_t_10 = 0;\n",
       "      __pyx_t_10 = <span class='py_c_api'>PyTuple_New</span>(2);<span class='error_goto'> if (unlikely(!__pyx_t_10)) __PYX_ERR(0, 13, __pyx_L1_error)</span>\n",
       "      <span class='refnanny'>__Pyx_GOTREF</span>(__pyx_t_10);\n",
       "      <span class='pyx_macro_api'>__Pyx_INCREF</span>(__pyx_v_y);\n",
       "      <span class='refnanny'>__Pyx_GIVEREF</span>(__pyx_v_y);\n",
       "      <span class='py_macro_api'>PyTuple_SET_ITEM</span>(__pyx_t_10, 0, __pyx_v_y);\n",
       "      <span class='pyx_macro_api'>__Pyx_INCREF</span>(__pyx_v_x);\n",
       "      <span class='refnanny'>__Pyx_GIVEREF</span>(__pyx_v_x);\n",
       "      <span class='py_macro_api'>PyTuple_SET_ITEM</span>(__pyx_t_10, 1, __pyx_v_x);\n",
       "      __pyx_t_8 = <span class='pyx_c_api'>__Pyx_PyObject_GetItem</span>(__pyx_v_a, __pyx_t_10);<span class='error_goto'> if (unlikely(!__pyx_t_8)) __PYX_ERR(0, 13, __pyx_L1_error)</span>\n",
       "      <span class='refnanny'>__Pyx_GOTREF</span>(__pyx_t_8);\n",
       "      <span class='pyx_macro_api'>__Pyx_DECREF</span>(__pyx_t_10); __pyx_t_10 = 0;\n",
       "      __pyx_t_10 = <span class='py_c_api'>PyNumber_Multiply</span>(__pyx_t_5, __pyx_t_8);<span class='error_goto'> if (unlikely(!__pyx_t_10)) __PYX_ERR(0, 13, __pyx_L1_error)</span>\n",
       "      <span class='refnanny'>__Pyx_GOTREF</span>(__pyx_t_10);\n",
       "      <span class='pyx_macro_api'>__Pyx_DECREF</span>(__pyx_t_5); __pyx_t_5 = 0;\n",
       "      <span class='pyx_macro_api'>__Pyx_DECREF</span>(__pyx_t_8); __pyx_t_8 = 0;\n",
       "      __pyx_t_8 = <span class='py_c_api'>PyNumber_Subtract</span>(__pyx_t_9, __pyx_t_10);<span class='error_goto'> if (unlikely(!__pyx_t_8)) __PYX_ERR(0, 13, __pyx_L1_error)</span>\n",
       "      <span class='refnanny'>__Pyx_GOTREF</span>(__pyx_t_8);\n",
       "      <span class='pyx_macro_api'>__Pyx_DECREF</span>(__pyx_t_9); __pyx_t_9 = 0;\n",
       "      <span class='pyx_macro_api'>__Pyx_DECREF</span>(__pyx_t_10); __pyx_t_10 = 0;\n",
       "      __pyx_t_10 = <span class='pyx_c_api'>__Pyx_PyInt_AddObjC</span>(__pyx_v_y, __pyx_int_4, 4, 0, 0);<span class='error_goto'> if (unlikely(!__pyx_t_10)) __PYX_ERR(0, 13, __pyx_L1_error)</span>\n",
       "      <span class='refnanny'>__Pyx_GOTREF</span>(__pyx_t_10);\n",
       "      __pyx_t_9 = <span class='py_c_api'>PyTuple_New</span>(2);<span class='error_goto'> if (unlikely(!__pyx_t_9)) __PYX_ERR(0, 13, __pyx_L1_error)</span>\n",
       "      <span class='refnanny'>__Pyx_GOTREF</span>(__pyx_t_9);\n",
       "      <span class='refnanny'>__Pyx_GIVEREF</span>(__pyx_t_10);\n",
       "      <span class='py_macro_api'>PyTuple_SET_ITEM</span>(__pyx_t_9, 0, __pyx_t_10);\n",
       "      <span class='pyx_macro_api'>__Pyx_INCREF</span>(__pyx_v_x);\n",
       "      <span class='refnanny'>__Pyx_GIVEREF</span>(__pyx_v_x);\n",
       "      <span class='py_macro_api'>PyTuple_SET_ITEM</span>(__pyx_t_9, 1, __pyx_v_x);\n",
       "      __pyx_t_10 = 0;\n",
       "      __pyx_t_10 = <span class='pyx_c_api'>__Pyx_PyObject_GetItem</span>(__pyx_v_a, __pyx_t_9);<span class='error_goto'> if (unlikely(!__pyx_t_10)) __PYX_ERR(0, 13, __pyx_L1_error)</span>\n",
       "      <span class='refnanny'>__Pyx_GOTREF</span>(__pyx_t_10);\n",
       "      <span class='pyx_macro_api'>__Pyx_DECREF</span>(__pyx_t_9); __pyx_t_9 = 0;\n",
       "      __pyx_t_9 = <span class='py_c_api'>PyNumber_Multiply</span>(__pyx_float_0_2, __pyx_t_10);<span class='error_goto'> if (unlikely(!__pyx_t_9)) __PYX_ERR(0, 13, __pyx_L1_error)</span>\n",
       "      <span class='refnanny'>__Pyx_GOTREF</span>(__pyx_t_9);\n",
       "      <span class='pyx_macro_api'>__Pyx_DECREF</span>(__pyx_t_10); __pyx_t_10 = 0;\n",
       "      __pyx_t_10 = <span class='py_c_api'>PyNumber_Add</span>(__pyx_t_8, __pyx_t_9);<span class='error_goto'> if (unlikely(!__pyx_t_10)) __PYX_ERR(0, 13, __pyx_L1_error)</span>\n",
       "      <span class='refnanny'>__Pyx_GOTREF</span>(__pyx_t_10);\n",
       "      <span class='pyx_macro_api'>__Pyx_DECREF</span>(__pyx_t_8); __pyx_t_8 = 0;\n",
       "      <span class='pyx_macro_api'>__Pyx_DECREF</span>(__pyx_t_9); __pyx_t_9 = 0;\n",
       "      <span class='pyx_macro_api'>__Pyx_XDECREF_SET</span>(__pyx_v_c, __pyx_t_10);\n",
       "      __pyx_t_10 = 0;\n",
       "</pre><pre class=\"cython line score-18\" onclick=\"(function(s){s.display=s.display==='block'?'none':'block'})(this.nextElementSibling.style)\">+<span class=\"\">14</span>:             <span class=\"n\">t</span> <span class=\"o\">=</span> <span class=\"mf\">0.2</span> <span class=\"o\">*</span> <span class=\"n\">t</span> <span class=\"o\">+</span> <span class=\"mf\">0.8</span> <span class=\"o\">*</span> <span class=\"n\">c</span></pre>\n",
       "<pre class='cython code score-18 '>      __pyx_t_10 = <span class='py_c_api'>PyNumber_Multiply</span>(__pyx_float_0_2, __pyx_v_t);<span class='error_goto'> if (unlikely(!__pyx_t_10)) __PYX_ERR(0, 14, __pyx_L1_error)</span>\n",
       "      <span class='refnanny'>__Pyx_GOTREF</span>(__pyx_t_10);\n",
       "      __pyx_t_9 = <span class='py_c_api'>PyNumber_Multiply</span>(__pyx_float_0_8, __pyx_v_c);<span class='error_goto'> if (unlikely(!__pyx_t_9)) __PYX_ERR(0, 14, __pyx_L1_error)</span>\n",
       "      <span class='refnanny'>__Pyx_GOTREF</span>(__pyx_t_9);\n",
       "      __pyx_t_8 = <span class='py_c_api'>PyNumber_Add</span>(__pyx_t_10, __pyx_t_9);<span class='error_goto'> if (unlikely(!__pyx_t_8)) __PYX_ERR(0, 14, __pyx_L1_error)</span>\n",
       "      <span class='refnanny'>__Pyx_GOTREF</span>(__pyx_t_8);\n",
       "      <span class='pyx_macro_api'>__Pyx_DECREF</span>(__pyx_t_10); __pyx_t_10 = 0;\n",
       "      <span class='pyx_macro_api'>__Pyx_DECREF</span>(__pyx_t_9); __pyx_t_9 = 0;\n",
       "      <span class='pyx_macro_api'>__Pyx_DECREF_SET</span>(__pyx_v_t, __pyx_t_8);\n",
       "      __pyx_t_8 = 0;\n",
       "</pre><pre class=\"cython line score-0\">&#xA0;<span class=\"\">15</span>: </pre>\n",
       "<pre class=\"cython line score-2\" onclick=\"(function(s){s.display=s.display==='block'?'none':'block'})(this.nextElementSibling.style)\">+<span class=\"\">16</span>:     <span class=\"k\">return</span> <span class=\"n\">t</span></pre>\n",
       "<pre class='cython code score-2 '>  <span class='pyx_macro_api'>__Pyx_XDECREF</span>(__pyx_r);\n",
       "  <span class='pyx_macro_api'>__Pyx_INCREF</span>(__pyx_v_t);\n",
       "  __pyx_r = __pyx_v_t;\n",
       "  goto __pyx_L0;\n",
       "</pre></div></body></html>"
      ],
      "text/plain": [
       "<IPython.core.display.HTML object>"
      ]
     },
     "execution_count": 54,
     "metadata": {},
     "output_type": "execute_result"
    }
   ],
   "source": [
    "%%cython -a\n",
    "\n",
    "import numpy.typing as npt\n",
    "import numpy as np\n",
    "\n",
    "\n",
    "def cython_strange_conv(a: npt.NDArray[np.float64]) -> np.float64:\n",
    "    x = a.shape[0]\n",
    "    y = a.shape[1]\n",
    "\n",
    "    t = 1.0\n",
    "    for y in range(y - 5):\n",
    "        for x in range(x - 3):\n",
    "            c = 1.5 * a[y + 1, x + 2] - a[y + 5, x + 3] * a[y, x] + 0.2 * a[y + 4, x]\n",
    "            t = 0.2 * t + 0.8 * c\n",
    "\n",
    "    return t"
   ]
  },
  {
   "cell_type": "code",
   "execution_count": 60,
   "metadata": {},
   "outputs": [
    {
     "name": "stdout",
     "output_type": "stream",
     "text": [
      "5.87 s ± 141 ms per loop (mean ± std. dev. of 7 runs, 1 loop each)\n"
     ]
    }
   ],
   "source": [
    "%%timeit\n",
    "cython_strange_conv(a)"
   ]
  },
  {
   "attachments": {},
   "cell_type": "markdown",
   "metadata": {},
   "source": [
    "Cython seems to highly rely on provided data types."
   ]
  }
 ],
 "metadata": {
  "kernelspec": {
   "display_name": ".venv",
   "language": "python",
   "name": "python3"
  },
  "language_info": {
   "codemirror_mode": {
    "name": "ipython",
    "version": 3
   },
   "file_extension": ".py",
   "mimetype": "text/x-python",
   "name": "python",
   "nbconvert_exporter": "python",
   "pygments_lexer": "ipython3",
   "version": "3.10.9 (main, Dec 15 2022, 10:44:50) [Clang 14.0.0 (clang-1400.0.29.202)]"
  },
  "orig_nbformat": 4,
  "vscode": {
   "interpreter": {
    "hash": "bc322d1636cc9c9d47dbac41ded6563bfd7721c37d49368317eea081ee306eb8"
   }
  }
 },
 "nbformat": 4,
 "nbformat_minor": 2
}
